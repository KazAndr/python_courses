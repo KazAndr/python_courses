{
 "cells": [
  {
   "cell_type": "markdown",
   "metadata": {},
   "source": [
    "# Исключения"
   ]
  },
  {
   "cell_type": "markdown",
   "metadata": {},
   "source": [
    "Ситуации, котда что то в коде идет не так (обычно из-за ошибок или неправильного ввода) останавливают работу программы. Подобные ситуации называються исклчениями и имеют различные типи. \n",
    "\n",
    "$\\textbf{Пример:}$"
   ]
  },
  {
   "cell_type": "code",
   "execution_count": 1,
   "metadata": {},
   "outputs": [
    {
     "ename": "ZeroDivisionError",
     "evalue": "division by zero",
     "output_type": "error",
     "traceback": [
      "\u001b[1;31m---------------------------------------------------------------------------\u001b[0m",
      "\u001b[1;31mZeroDivisionError\u001b[0m                         Traceback (most recent call last)",
      "\u001b[1;32m<ipython-input-1-384f59db9956>\u001b[0m in \u001b[0;36m<module>\u001b[1;34m()\u001b[0m\n\u001b[0;32m      1\u001b[0m \u001b[0mnum1\u001b[0m \u001b[1;33m=\u001b[0m \u001b[1;36m7\u001b[0m\u001b[1;33m\u001b[0m\u001b[0m\n\u001b[0;32m      2\u001b[0m \u001b[0mnum2\u001b[0m \u001b[1;33m=\u001b[0m \u001b[1;36m0\u001b[0m\u001b[1;33m\u001b[0m\u001b[0m\n\u001b[1;32m----> 3\u001b[1;33m \u001b[0mprint\u001b[0m\u001b[1;33m(\u001b[0m\u001b[0mnum1\u001b[0m\u001b[1;33m/\u001b[0m\u001b[0mnum2\u001b[0m\u001b[1;33m)\u001b[0m\u001b[1;33m\u001b[0m\u001b[0m\n\u001b[0m",
      "\u001b[1;31mZeroDivisionError\u001b[0m: division by zero"
     ]
    }
   ],
   "source": [
    "num1 = 7\n",
    "num2 = 0\n",
    "print(num1/num2)"
   ]
  },
  {
   "cell_type": "markdown",
   "metadata": {},
   "source": [
    "Подобная ситауция вызвала закономерное исключение -  деление на 0.\n",
    "Сами исключения могут происходить по разным причинам. Наиболее частые из них:\n",
    "\n",
    "$\\textbf{ImportError}$ - импортирование не удалось;\n",
    "\n",
    "$\\textbf{ImdexError}$ - индекс не входит в диапазон элементов списка;\n",
    "\n",
    "$\\textbf{NameError}$ - попытка использовать несуществующую переменную;\n",
    "\n",
    "$\\textbf{SyntaxError}$ - ошибка разбора кода;\n",
    "\n",
    "$\\textbf{TypeError}$ - в функцию передано значение несовместимого типа;\n",
    "\n",
    "$\\textbf{ValueError}$ - в функцию передано значение совместимого типа, но с некорректным значением.\n",
    "\n",
    "Помимо всего этого есть масса других исключений, как страндартных (все то же $\\textbf{ZeroDivisionError}$), так и идущих из сторонних библиотек"
   ]
  },
  {
   "cell_type": "markdown",
   "metadata": {},
   "source": [
    "### Обработка исключений"
   ]
  },
  {
   "cell_type": "markdown",
   "metadata": {},
   "source": [
    "Когда происходит исключение, что бы обойти его и выполнить код, можно использовать конструкцию $\\textbf{try/except}$. Блок $\\textbf{try}$ содержит код под сомнением, код которыйможет вызвать исключение. В случае исключения выполнение кода в блоке $\\textbf{try}$ прерывается и передается коду в блоке $\\textbf{except}$. Если не происходит никакой ошибки, код в блоке $\\textbf{except}$ не выплняется.\n",
    "\n",
    "$\\textbf{Например:}$"
   ]
  },
  {
   "cell_type": "code",
   "execution_count": 3,
   "metadata": {},
   "outputs": [
    {
     "name": "stdout",
     "output_type": "stream",
     "text": [
      "An error occurred\n",
      "due to zero division\n"
     ]
    }
   ],
   "source": [
    "try:\n",
    "    num1 = 7\n",
    "    num2 = 0\n",
    "    print(num1/num2)\n",
    "    print(\"Done calculation\")\n",
    "except ZeroDivisionError: # В данном примере указан тип ожидаемого исключения\n",
    "    print(\"An error occurred\")\n",
    "    print(\"due to zero division\")"
   ]
  },
  {
   "cell_type": "markdown",
   "metadata": {},
   "source": [
    "Инструкция $\\textbf{try}$ может иметь несколько различных блоков $\\textbf{except}$, что бы обрабоатывать различные исключения. Блок $\\textbf{except}$ может содержать несколько исключений, которые указываються в круглых скобах; все они будут выполнены программой."
   ]
  },
  {
   "cell_type": "code",
   "execution_count": 4,
   "metadata": {},
   "outputs": [
    {
     "name": "stdout",
     "output_type": "stream",
     "text": [
      "Error occurred\n"
     ]
    }
   ],
   "source": [
    "try:\n",
    "    variable = 7\n",
    "    print(variable + 'hello')\n",
    "    print(variable/2)\n",
    "except ZeroDivisionError: \n",
    "    print(\"Divided by zero\")\n",
    "except (ValueError, TypeError): \n",
    "    print(\"Error occurred\")"
   ]
  },
  {
   "cell_type": "markdown",
   "metadata": {},
   "source": [
    "Инструкция $\\textbf{except}$ не имеющая каких-либо исключений, будет перехватывать все ошибки. Такие инструкции нужно использовать с осторожностью, так как они могут перехватить слишком много ошибок или же скрыть ошибки в коде."
   ]
  },
  {
   "cell_type": "code",
   "execution_count": 5,
   "metadata": {},
   "outputs": [
    {
     "name": "stdout",
     "output_type": "stream",
     "text": [
      "An error occurred\n"
     ]
    }
   ],
   "source": [
    "try:\n",
    "    word = 'spam'\n",
    "    print(word/0)\n",
    "except: \n",
    "    print(\"An error occurred\")"
   ]
  },
  {
   "cell_type": "markdown",
   "metadata": {},
   "source": [
    "Умение обрабоатывать исклчения особенно важно при работе с пользовательским вводом."
   ]
  },
  {
   "cell_type": "markdown",
   "metadata": {},
   "source": [
    "### finally "
   ]
  },
  {
   "cell_type": "markdown",
   "metadata": {},
   "source": [
    "Когда есть необходимость в том, что бы некоторый фрагмент кода выполнялся, независимо от того, возникают ошибки\n",
    "или нет, можно использовать конструкцию $\\textbf{finally}$. Инструкция $\\textbf{finally}$ располагается в нижней части инструкции $\\textbf{try/except}$. Данная инструкция выполняется после выполенния блока $\\textbf{try}$ и, возможно, после блока $\\textbf{except}$."
   ]
  },
  {
   "cell_type": "code",
   "execution_count": 6,
   "metadata": {},
   "outputs": [
    {
     "name": "stdout",
     "output_type": "stream",
     "text": [
      "Hello\n",
      "Divided by zero\n",
      "This code will run no matter what\n"
     ]
    }
   ],
   "source": [
    "try:\n",
    "    print('Hello')\n",
    "    print(1/0)\n",
    "except ZeroDivisionError: \n",
    "    print(\"Divided by zero\")\n",
    "finally: \n",
    "    print(\"This code will run no matter what\")"
   ]
  },
  {
   "cell_type": "markdown",
   "metadata": {},
   "source": [
    "код в конструкции $\\textbf{finally}$ будет выполняться, даже если произойдет неперехваченное исключение в одном\n",
    "из предыдущих блоков кода."
   ]
  },
  {
   "cell_type": "code",
   "execution_count": 7,
   "metadata": {},
   "outputs": [
    {
     "name": "stdout",
     "output_type": "stream",
     "text": [
      "1\n",
      "This is executed last\n"
     ]
    },
    {
     "ename": "NameError",
     "evalue": "name 'unknown_var' is not defined",
     "output_type": "error",
     "traceback": [
      "\u001b[1;31m---------------------------------------------------------------------------\u001b[0m",
      "\u001b[1;31mZeroDivisionError\u001b[0m                         Traceback (most recent call last)",
      "\u001b[1;32m<ipython-input-7-2e9b4c36df43>\u001b[0m in \u001b[0;36m<module>\u001b[1;34m()\u001b[0m\n\u001b[0;32m      2\u001b[0m     \u001b[0mprint\u001b[0m\u001b[1;33m(\u001b[0m\u001b[1;36m1\u001b[0m\u001b[1;33m)\u001b[0m\u001b[1;33m\u001b[0m\u001b[0m\n\u001b[1;32m----> 3\u001b[1;33m     \u001b[0mprint\u001b[0m\u001b[1;33m(\u001b[0m\u001b[1;36m10\u001b[0m\u001b[1;33m/\u001b[0m\u001b[1;36m0\u001b[0m\u001b[1;33m)\u001b[0m\u001b[1;33m\u001b[0m\u001b[0m\n\u001b[0m\u001b[0;32m      4\u001b[0m \u001b[1;32mexcept\u001b[0m \u001b[0mZeroDivisionError\u001b[0m\u001b[1;33m:\u001b[0m\u001b[1;33m\u001b[0m\u001b[0m\n",
      "\u001b[1;31mZeroDivisionError\u001b[0m: division by zero",
      "\nDuring handling of the above exception, another exception occurred:\n",
      "\u001b[1;31mNameError\u001b[0m                                 Traceback (most recent call last)",
      "\u001b[1;32m<ipython-input-7-2e9b4c36df43>\u001b[0m in \u001b[0;36m<module>\u001b[1;34m()\u001b[0m\n\u001b[0;32m      3\u001b[0m     \u001b[0mprint\u001b[0m\u001b[1;33m(\u001b[0m\u001b[1;36m10\u001b[0m\u001b[1;33m/\u001b[0m\u001b[1;36m0\u001b[0m\u001b[1;33m)\u001b[0m\u001b[1;33m\u001b[0m\u001b[0m\n\u001b[0;32m      4\u001b[0m \u001b[1;32mexcept\u001b[0m \u001b[0mZeroDivisionError\u001b[0m\u001b[1;33m:\u001b[0m\u001b[1;33m\u001b[0m\u001b[0m\n\u001b[1;32m----> 5\u001b[1;33m     \u001b[0mprint\u001b[0m\u001b[1;33m(\u001b[0m\u001b[0munknown_var\u001b[0m\u001b[1;33m)\u001b[0m\u001b[1;33m\u001b[0m\u001b[0m\n\u001b[0m\u001b[0;32m      6\u001b[0m \u001b[1;32mfinally\u001b[0m\u001b[1;33m:\u001b[0m\u001b[1;33m\u001b[0m\u001b[0m\n\u001b[0;32m      7\u001b[0m     \u001b[0mprint\u001b[0m\u001b[1;33m(\u001b[0m\u001b[1;34m\"This is executed last\"\u001b[0m\u001b[1;33m)\u001b[0m\u001b[1;33m\u001b[0m\u001b[0m\n",
      "\u001b[1;31mNameError\u001b[0m: name 'unknown_var' is not defined"
     ]
    }
   ],
   "source": [
    "try:\n",
    "    print(1)\n",
    "    print(10/0)\n",
    "except ZeroDivisionError: \n",
    "    print(unknown_var)\n",
    "finally: \n",
    "    print(\"This is executed last\")"
   ]
  },
  {
   "cell_type": "markdown",
   "metadata": {},
   "source": [
    "## Вызов исключений "
   ]
  },
  {
   "cell_type": "markdown",
   "metadata": {},
   "source": [
    "Можно вызывать исключения с помощью инструкции $\\textbf{raise}$."
   ]
  },
  {
   "cell_type": "code",
   "execution_count": 8,
   "metadata": {},
   "outputs": [
    {
     "name": "stdout",
     "output_type": "stream",
     "text": [
      "1\n"
     ]
    },
    {
     "ename": "ValueError",
     "evalue": "",
     "output_type": "error",
     "traceback": [
      "\u001b[1;31m---------------------------------------------------------------------------\u001b[0m",
      "\u001b[1;31mValueError\u001b[0m                                Traceback (most recent call last)",
      "\u001b[1;32m<ipython-input-8-f809fba442e0>\u001b[0m in \u001b[0;36m<module>\u001b[1;34m()\u001b[0m\n\u001b[0;32m      1\u001b[0m \u001b[0mprint\u001b[0m\u001b[1;33m(\u001b[0m\u001b[1;36m1\u001b[0m\u001b[1;33m)\u001b[0m\u001b[1;33m\u001b[0m\u001b[0m\n\u001b[1;32m----> 2\u001b[1;33m \u001b[1;32mraise\u001b[0m \u001b[0mValueError\u001b[0m\u001b[1;33m\u001b[0m\u001b[0m\n\u001b[0m\u001b[0;32m      3\u001b[0m \u001b[0mprint\u001b[0m\u001b[1;33m(\u001b[0m\u001b[1;36m2\u001b[0m\u001b[1;33m)\u001b[0m\u001b[1;33m\u001b[0m\u001b[0m\n",
      "\u001b[1;31mValueError\u001b[0m: "
     ]
    }
   ],
   "source": [
    "print(1)\n",
    "raise ValueError # Нужно указать тип исключения, которое будет вызвано\n",
    "print(2)"
   ]
  },
  {
   "cell_type": "markdown",
   "metadata": {},
   "source": [
    "Исключение можно вызывать с указанием аргумента, который представляет собой ее описание.\n",
    "\n",
    "$\\textbf{Например:}$"
   ]
  },
  {
   "cell_type": "code",
   "execution_count": 9,
   "metadata": {},
   "outputs": [
    {
     "ename": "NameError",
     "evalue": "Invalid name",
     "output_type": "error",
     "traceback": [
      "\u001b[1;31m---------------------------------------------------------------------------\u001b[0m",
      "\u001b[1;31mNameError\u001b[0m                                 Traceback (most recent call last)",
      "\u001b[1;32m<ipython-input-9-87a0cb029082>\u001b[0m in \u001b[0;36m<module>\u001b[1;34m()\u001b[0m\n\u001b[0;32m      1\u001b[0m \u001b[0mname\u001b[0m \u001b[1;33m=\u001b[0m \u001b[1;34m\"132\"\u001b[0m\u001b[1;33m\u001b[0m\u001b[0m\n\u001b[1;32m----> 2\u001b[1;33m \u001b[1;32mraise\u001b[0m \u001b[0mNameError\u001b[0m\u001b[1;33m(\u001b[0m\u001b[1;34m\"Invalid name\"\u001b[0m\u001b[1;33m)\u001b[0m\u001b[1;33m\u001b[0m\u001b[0m\n\u001b[0m",
      "\u001b[1;31mNameError\u001b[0m: Invalid name"
     ]
    }
   ],
   "source": [
    "name = \"132\"\n",
    "raise NameError(\"Invalid name\")"
   ]
  },
  {
   "cell_type": "code",
   "execution_count": 10,
   "metadata": {},
   "outputs": [
    {
     "name": "stdout",
     "output_type": "stream",
     "text": [
      "An error occured\n"
     ]
    },
    {
     "ename": "ZeroDivisionError",
     "evalue": "division by zero",
     "output_type": "error",
     "traceback": [
      "\u001b[1;31m---------------------------------------------------------------------------\u001b[0m",
      "\u001b[1;31mZeroDivisionError\u001b[0m                         Traceback (most recent call last)",
      "\u001b[1;32m<ipython-input-10-c3a798b4f4cd>\u001b[0m in \u001b[0;36m<module>\u001b[1;34m()\u001b[0m\n\u001b[0;32m      1\u001b[0m \u001b[1;32mtry\u001b[0m\u001b[1;33m:\u001b[0m\u001b[1;33m\u001b[0m\u001b[0m\n\u001b[1;32m----> 2\u001b[1;33m     \u001b[0mnum\u001b[0m \u001b[1;33m=\u001b[0m \u001b[1;36m5\u001b[0m\u001b[1;33m/\u001b[0m\u001b[1;36m0\u001b[0m\u001b[1;33m\u001b[0m\u001b[0m\n\u001b[0m\u001b[0;32m      3\u001b[0m \u001b[1;32mexcept\u001b[0m\u001b[1;33m:\u001b[0m\u001b[1;33m\u001b[0m\u001b[0m\n\u001b[0;32m      4\u001b[0m     \u001b[0mprint\u001b[0m\u001b[1;33m(\u001b[0m\u001b[1;34m\"An error occured\"\u001b[0m\u001b[1;33m)\u001b[0m\u001b[1;33m\u001b[0m\u001b[0m\n\u001b[0;32m      5\u001b[0m     \u001b[1;32mraise\u001b[0m\u001b[1;33m\u001b[0m\u001b[0m\n",
      "\u001b[1;31mZeroDivisionError\u001b[0m: division by zero"
     ]
    }
   ],
   "source": [
    "try:\n",
    "    num = 5/0\n",
    "except:\n",
    "    print(\"An error occured\")\n",
    "    raise"
   ]
  },
  {
   "cell_type": "markdown",
   "metadata": {},
   "source": [
    "# Утверждения "
   ]
  },
  {
   "cell_type": "markdown",
   "metadata": {},
   "source": [
    "$\\textbf{Утверждение}$ - это проверка правильности кода; ее можно включить или выключить по завершению тестирования программы. Выражение проверяется, и если оно ложное, вызывается исключение. \n",
    "Утверждения создается с помощью инструкции $\\textbf{asset}$."
   ]
  },
  {
   "cell_type": "code",
   "execution_count": 11,
   "metadata": {},
   "outputs": [
    {
     "name": "stdout",
     "output_type": "stream",
     "text": [
      "1\n",
      "2\n"
     ]
    },
    {
     "ename": "AssertionError",
     "evalue": "",
     "output_type": "error",
     "traceback": [
      "\u001b[1;31m---------------------------------------------------------------------------\u001b[0m",
      "\u001b[1;31mAssertionError\u001b[0m                            Traceback (most recent call last)",
      "\u001b[1;32m<ipython-input-11-8b36a1e9f62d>\u001b[0m in \u001b[0;36m<module>\u001b[1;34m()\u001b[0m\n\u001b[0;32m      2\u001b[0m \u001b[1;32massert\u001b[0m \u001b[1;36m2\u001b[0m \u001b[1;33m+\u001b[0m \u001b[1;36m2\u001b[0m \u001b[1;33m==\u001b[0m \u001b[1;36m4\u001b[0m\u001b[1;33m\u001b[0m\u001b[0m\n\u001b[0;32m      3\u001b[0m \u001b[0mprint\u001b[0m\u001b[1;33m(\u001b[0m\u001b[1;36m2\u001b[0m\u001b[1;33m)\u001b[0m\u001b[1;33m\u001b[0m\u001b[0m\n\u001b[1;32m----> 4\u001b[1;33m \u001b[1;32massert\u001b[0m \u001b[1;36m1\u001b[0m \u001b[1;33m+\u001b[0m \u001b[1;36m1\u001b[0m \u001b[1;33m==\u001b[0m \u001b[1;36m3\u001b[0m\u001b[1;33m\u001b[0m\u001b[0m\n\u001b[0m\u001b[0;32m      5\u001b[0m \u001b[0mprint\u001b[0m\u001b[1;33m(\u001b[0m\u001b[1;36m3\u001b[0m\u001b[1;33m)\u001b[0m\u001b[1;33m\u001b[0m\u001b[0m\n",
      "\u001b[1;31mAssertionError\u001b[0m: "
     ]
    }
   ],
   "source": [
    "print(1)\n",
    "assert 2 + 2 == 4\n",
    "print(2)\n",
    "assert 1 + 1 == 3\n",
    "print(3)"
   ]
  },
  {
   "cell_type": "markdown",
   "metadata": {},
   "source": [
    "Программисты часто размещают утверждения в заголовке функции, чтобы проверить правильность ввода, а также после вызова функции для проверки правильности вывода."
   ]
  },
  {
   "cell_type": "markdown",
   "metadata": {},
   "source": [
    "Утверждениям, как и конструкции $\\textbf{raise}$, можно давать второй аргумент, который передается в блок AssertionError, выполянемый в случае ложности утверждения."
   ]
  },
  {
   "cell_type": "code",
   "execution_count": 12,
   "metadata": {},
   "outputs": [
    {
     "ename": "AssertionError",
     "evalue": "Colder then absolute zero!",
     "output_type": "error",
     "traceback": [
      "\u001b[1;31m---------------------------------------------------------------------------\u001b[0m",
      "\u001b[1;31mAssertionError\u001b[0m                            Traceback (most recent call last)",
      "\u001b[1;32m<ipython-input-12-e0aec49466da>\u001b[0m in \u001b[0;36m<module>\u001b[1;34m()\u001b[0m\n\u001b[0;32m      1\u001b[0m \u001b[0mtemp\u001b[0m \u001b[1;33m=\u001b[0m \u001b[1;33m-\u001b[0m\u001b[1;36m10\u001b[0m\u001b[1;33m\u001b[0m\u001b[0m\n\u001b[1;32m----> 2\u001b[1;33m \u001b[1;32massert\u001b[0m \u001b[1;33m(\u001b[0m\u001b[0mtemp\u001b[0m \u001b[1;33m>=\u001b[0m \u001b[1;36m0\u001b[0m\u001b[1;33m)\u001b[0m\u001b[1;33m,\u001b[0m \u001b[1;34m\"Colder then absolute zero!\"\u001b[0m\u001b[1;33m\u001b[0m\u001b[0m\n\u001b[0m",
      "\u001b[1;31mAssertionError\u001b[0m: Colder then absolute zero!"
     ]
    }
   ],
   "source": [
    "temp = -10\n",
    "assert (temp >= 0), \"Colder then absolute zero!\""
   ]
  },
  {
   "cell_type": "markdown",
   "metadata": {},
   "source": [
    "Исключения AssertionError могут быть перехвачены как и любое другое исключение, с помощью конструкции  $\\textbf{try/except}$. Если же AssertionError не обрабатывается, этот класс исключений приводит к остановке программы."
   ]
  },
  {
   "cell_type": "markdown",
   "metadata": {},
   "source": [
    "### Полезные функции обработки строк"
   ]
  },
  {
   "cell_type": "markdown",
   "metadata": {},
   "source": [
    "В Python есть много полезных встроенных функций и методов выполнения частных задач.  \n",
    "\n",
    "$\\textbf{join}$ - объединение последовательности строк с использованием другой стоки в качестве разделителя;\n",
    "\n",
    "$\\textbf{replace}$ - замена одной подстроки на другую;\n",
    "\n",
    "$\\textbf{startswith}$ и $\\textbf{endswith}$ - методы определяют, есть ли подстрока в начале или в конце строки;\n",
    "\n",
    "Для изменения регистра строки используються методы $\\textbf{lower()}$ и $\\textbf{upper()}$ \n",
    "\n",
    "$\\textbf{split}$ - противоположный методу $\\textbf{join}$, делает из строки с определенным разделителем список.\n",
    "\n",
    "$\\textbf{Несколько примеров:}$ \n"
   ]
  },
  {
   "cell_type": "code",
   "execution_count": 14,
   "metadata": {},
   "outputs": [
    {
     "name": "stdout",
     "output_type": "stream",
     "text": [
      "spam,eggs,ham\n",
      "Hello world\n",
      "True\n",
      "True\n",
      "THIS IS A SENTENCE.\n",
      "anall caps sentence\n",
      "['spam', ' eggs', ' ham']\n"
     ]
    }
   ],
   "source": [
    "print(','.join([\"spam\",\"eggs\",\"ham\"]))\n",
    "print(\"Hello ME\".replace(\"ME\", \"world\"))\n",
    "print(\"This is a sentence.\".startswith(\"This\"))\n",
    "print(\"This is a sentence.\".endswith(\"sentence.\"))\n",
    "print(\"This is a sentence.\".upper())\n",
    "print(\"ANALL CAPS SENTENCE\".lower())\n",
    "print(\"spam, eggs, ham\".split(\",\"))"
   ]
  },
  {
   "cell_type": "markdown",
   "metadata": {},
   "source": [
    "### Функции списков "
   ]
  },
  {
   "cell_type": "markdown",
   "metadata": {},
   "source": [
    "Функциям $\\textbf{all}$ и $\\textbf{any}$, часто используемым в условных конструкциях, можно присваивать в качестве список в качестве аргумента; значение $\\textbf{True}$ возвращается когда любой их аргумент(или соответственно все аргументы) возвращает $\\textbf{True}$, в противном случае $\\textbf{False}$.\n",
    "\n",
    "Функция $\\textbf{enumerate}$ может быть использована для одновременного  перебора значений и показателей списка.\n",
    "\n",
    "$\\textbf{Пример:}$"
   ]
  },
  {
   "cell_type": "code",
   "execution_count": 18,
   "metadata": {},
   "outputs": [
    {
     "name": "stdout",
     "output_type": "stream",
     "text": [
      "All larger than 5\n",
      "At least one is even\n",
      "(0, 55)\n",
      "(1, 44)\n",
      "(2, 33)\n",
      "(3, 22)\n",
      "(4, 11)\n"
     ]
    }
   ],
   "source": [
    "nums = [55, 44, 33, 22, 11]\n",
    "\n",
    "if all([i > 5 for i in nums]):\n",
    "    print(\"All larger than 5\")\n",
    "    \n",
    "if any([i % 2 == 0 for i in nums]):\n",
    "    print('At least one is even')\n",
    "    \n",
    "for v in enumerate(nums):\n",
    "    print(v)"
   ]
  },
  {
   "cell_type": "markdown",
   "metadata": {},
   "source": [
    "## Функция lambda "
   ]
  },
  {
   "cell_type": "markdown",
   "metadata": {},
   "source": [
    "Ламбда-функции - полезные, но не особо функциональные трюки, называемые анонимными функциями.\n",
    "\n",
    "$\\textbf{Пример:}$"
   ]
  },
  {
   "cell_type": "code",
   "execution_count": 19,
   "metadata": {},
   "outputs": [
    {
     "name": "stdout",
     "output_type": "stream",
     "text": [
      "0\n",
      "0\n"
     ]
    }
   ],
   "source": [
    "# Именованая функция\n",
    "def polynomial(x):\n",
    "    return x**2 + 5*x + 4\n",
    "print(polynomial(-4))\n",
    "# Анонимная функция\n",
    "print((lambda x: x**2 + 5*x + 4) (-4))"
   ]
  },
  {
   "cell_type": "markdown",
   "metadata": {},
   "source": [
    "Лямбда-функциям можно присваивать переменные и они могут использоваться как обычные функции. Тем не менее подобный способ довольно редкий и функции обычно инициализируються через $\\textbf{def}$."
   ]
  },
  {
   "cell_type": "code",
   "execution_count": 20,
   "metadata": {},
   "outputs": [
    {
     "name": "stdout",
     "output_type": "stream",
     "text": [
      "14\n"
     ]
    }
   ],
   "source": [
    "double = lambda x: x*2\n",
    "print(double(7))"
   ]
  },
  {
   "cell_type": "markdown",
   "metadata": {},
   "source": [
    "## Функция map и filter"
   ]
  },
  {
   "cell_type": "markdown",
   "metadata": {},
   "source": [
    "Функции $\\textbf{map}$ и $\\textbf{filter}$ являються встроенными функциями высшего порядка для работы со списками или другими итерируемыми объектами.\n",
    "\n",
    "Функция $\\textbf{map}$ принимает в качестве аргументов функцию и итерируемый объект. Возвращает $\\textbf{map}$ новый итерируемый объект, а функция применятеся к каждому аргументу.\n",
    "\n",
    "$\\textbf{Пример:}$"
   ]
  },
  {
   "cell_type": "code",
   "execution_count": 21,
   "metadata": {},
   "outputs": [
    {
     "name": "stdout",
     "output_type": "stream",
     "text": [
      "[16, 27, 38, 49, 60]\n"
     ]
    }
   ],
   "source": [
    "def add_five(x):\n",
    "    return x + 5\n",
    "\n",
    "nums = [11, 22, 33, 44, 55]\n",
    "\n",
    "print(list(map(add_five, nums)))"
   ]
  },
  {
   "cell_type": "markdown",
   "metadata": {},
   "source": [
    "С другой стороны, подобную задачу можно решить с помощью анонимной функции более просто:"
   ]
  },
  {
   "cell_type": "code",
   "execution_count": 22,
   "metadata": {},
   "outputs": [
    {
     "name": "stdout",
     "output_type": "stream",
     "text": [
      "[16, 27, 38, 49, 60]\n"
     ]
    }
   ],
   "source": [
    "print(list(map(lambda x: x + 5, nums)))"
   ]
  },
  {
   "cell_type": "markdown",
   "metadata": {},
   "source": [
    "Функция $\\textbf{filter}$ предназначена для фильтрования итерируемого объекта путем удаления элементов, которые не соответствуют предикату (функции, которая возвращает логичесткую переменную).\n"
   ]
  },
  {
   "cell_type": "code",
   "execution_count": 23,
   "metadata": {},
   "outputs": [
    {
     "name": "stdout",
     "output_type": "stream",
     "text": [
      "[22, 44]\n"
     ]
    }
   ],
   "source": [
    "print(list(filter(lambda x: x % 2 == 0, nums)))"
   ]
  },
  {
   "cell_type": "markdown",
   "metadata": {},
   "source": [
    "# Генераторы"
   ]
  },
  {
   "cell_type": "markdown",
   "metadata": {},
   "source": [
    "$\\textbf{Генераторы}$ представляют собой итерируемый тип, такой как списки или кортежи. \n",
    "\n",
    "В отличии от списков им нельзя присваивать произвольные индексы, но они поддерживают циклы $\\textbf{for}$. Они  создаються с использованием функций и инструкции $\\textbf{yield}$.\n",
    "\n",
    "$\\textbf{Пример:}$"
   ]
  },
  {
   "cell_type": "code",
   "execution_count": 27,
   "metadata": {},
   "outputs": [
    {
     "name": "stdout",
     "output_type": "stream",
     "text": [
      "5\n",
      "4\n",
      "3\n",
      "2\n",
      "1\n"
     ]
    }
   ],
   "source": [
    "def countdown():\n",
    "    i = 5\n",
    "    while i > 0:\n",
    "        yield i\n",
    "        i -=1\n",
    "        \n",
    "for i in countdown():\n",
    "    print(i)"
   ]
  },
  {
   "cell_type": "markdown",
   "metadata": {},
   "source": [
    "Инструкция $\\textbf{yield}$ определяет генератор, заменяет значение, возвращаемое функцией, и возвращает результат, не меняя первоначальные параметры."
   ]
  },
  {
   "cell_type": "markdown",
   "metadata": {},
   "source": [
    "Так как генераторы возвращают по одному элементу за раз, они, в отличии от списков, не имеют ограничений по памяти. На само деле они могут выполняться $\\textbf{бесконечно!}$"
   ]
  },
  {
   "cell_type": "code",
   "execution_count": null,
   "metadata": {
    "collapsed": true
   },
   "outputs": [],
   "source": [
    "def infinite_sevens():\n",
    "    while #True: #выполнять этот код не стоит\n",
    "        yield 7\n",
    "        \n",
    "for i in infinite_sevens:\n",
    "    print(i)"
   ]
  },
  {
   "cell_type": "markdown",
   "metadata": {},
   "source": [
    "$\\textbf{Резюмируя,}$ генераторы позволяют объявить функцию, которая подобна итератору, т.е. может быть использована в цикле."
   ]
  },
  {
   "cell_type": "markdown",
   "metadata": {},
   "source": [
    "Конечные генераторы могут быть преобразованы в списки, для этого их нужно передать как аргумент функции $\\textbf{list}$."
   ]
  },
  {
   "cell_type": "code",
   "execution_count": 29,
   "metadata": {},
   "outputs": [
    {
     "name": "stdout",
     "output_type": "stream",
     "text": [
      "[0, 2, 4, 6, 8, 10]\n"
     ]
    }
   ],
   "source": [
    "def numbers(x):\n",
    "    for i in range(x):\n",
    "        if i % 2 == 0:\n",
    "            yield i\n",
    "            \n",
    "print(list(numbers(11)))"
   ]
  },
  {
   "cell_type": "markdown",
   "metadata": {},
   "source": [
    "Использование $\\textbf{генераторов}$ позволяет повысить производительность: \"ленивая\" генерация значений(генерация по требованию) означает сниженное потребление памяти. Кроме того, не нужно ждать, пока все элементы будут сгенерированы, мы можем начать их использование гораздо раньше.  "
   ]
  },
  {
   "cell_type": "markdown",
   "metadata": {},
   "source": [
    "# Декораторы "
   ]
  },
  {
   "cell_type": "markdown",
   "metadata": {},
   "source": [
    "Декораторы предназначены для модификации функций с помощью других функций. Они очень пригождаються, когда нужно изменить поведение функций, но нет желания ее модифицировать нет.\n",
    "\n",
    "$\\textbf{Пример:}$"
   ]
  },
  {
   "cell_type": "code",
   "execution_count": 30,
   "metadata": {},
   "outputs": [
    {
     "name": "stdout",
     "output_type": "stream",
     "text": [
      "============\n",
      "Hello world!\n",
      "============\n"
     ]
    }
   ],
   "source": [
    "def decor(func):\n",
    "    def wrap():\n",
    "        print('============')\n",
    "        func()\n",
    "        print('============')\n",
    "    return wrap\n",
    "\n",
    "def print_text():\n",
    "    print('Hello world!')\n",
    "    \n",
    "decorated = decor(print_text)\n",
    "decorated()"
   ]
  },
  {
   "cell_type": "markdown",
   "metadata": {},
   "source": [
    "В примере выше определена функция с именем $\\textbf{decor}$, у которой один единственный параметр $\\textbf{func}$. Внутри функции $\\textbf{decor}$, определена вложенная функция $\\textbf{wrap}$. Данная функция выведет строку, затем вызывает $\\textbf{func()}$ и выводит еще одну строку. Функция $\\textbf{decor}$ возвращает функцию $\\textbf{wrap}$ как свой результат.\n",
    "\n",
    "Можно сказать, что переменная $\\textbf{decorated}$ - декорированная версия $\\textbf{print_text}$, то есть $\\textbf{print_text}$ и еще что-то. \n",
    "\n",
    "Предположем, написан полезный декоратор и мы хотим полностью заменить $\\textbf{print_text}$ декорированной версией, так чтобы всегда выполнялась наша версия $\\textbf{print_text}$ \"плюс еще что-то\".\n",
    "Это делается путем присвоения переменной, содержащей нашу функцию. "
   ]
  },
  {
   "cell_type": "code",
   "execution_count": 31,
   "metadata": {},
   "outputs": [
    {
     "name": "stdout",
     "output_type": "stream",
     "text": [
      "============\n",
      "Hello world!\n",
      "============\n"
     ]
    }
   ],
   "source": [
    "print_text = decor(print_text)\n",
    "print_text() # теперь эта функция привязана к нашей дикорированной версии"
   ]
  },
  {
   "cell_type": "markdown",
   "metadata": {},
   "source": [
    "Эта конструкция может быть использована в любой момент для оборачивания любой нужной функции. Python представляет способ обернуть функцию в декоратор; для этого нужно поставить перед определением фуекции имя декоратора и символ $\\textbf{@}$. \n",
    "\n",
    "Если опредляется функция, мы можем \"декорировать\" ее, добавив символ @;\n",
    "\n",
    "$\\textbf{Вот так вот:}$"
   ]
  },
  {
   "cell_type": "code",
   "execution_count": 32,
   "metadata": {},
   "outputs": [
    {
     "name": "stdout",
     "output_type": "stream",
     "text": [
      "============\n",
      "Hello world!\n",
      "============\n"
     ]
    }
   ],
   "source": [
    "@decor\n",
    "def print_text():\n",
    "    print(\"Hello world!\")\n",
    "    \n",
    "print_text()"
   ]
  },
  {
   "cell_type": "markdown",
   "metadata": {},
   "source": [
    "Функция может иметь несколько декоарторов. \n",
    "Более подробно про $\\textbf{декораторы}$ можно прочитать $\\textbf{https://habrahabr.ru/post/141411/}$."
   ]
  },
  {
   "cell_type": "markdown",
   "metadata": {},
   "source": [
    "# Множества "
   ]
  },
  {
   "cell_type": "markdown",
   "metadata": {},
   "source": [
    "Множества - структуры данных, подобные спискам или словарям. Они создаются с помощью фигурных скобок или функции $\\textbf{set}$. Некоторые их функции аналогичны функциям списков, например, используется $\\textbf{in}$ для проверки наличия в них какого-либо элемента. "
   ]
  },
  {
   "cell_type": "code",
   "execution_count": 33,
   "metadata": {},
   "outputs": [
    {
     "name": "stdout",
     "output_type": "stream",
     "text": [
      "True\n",
      "False\n"
     ]
    }
   ],
   "source": [
    "num_set = {1, 2, 3, 4, 5}\n",
    "word_set = set(['spam', 'eggs', 'sausage'])\n",
    "\n",
    "print(3 in num_set)\n",
    "print('spam' not in word_set)"
   ]
  },
  {
   "cell_type": "markdown",
   "metadata": {},
   "source": [
    "Чтобы создать пустое множество, используется $\\textbf{set()}$, так как скобки $\\textbf{{}}$ используються для создания пустого словаря."
   ]
  },
  {
   "cell_type": "markdown",
   "metadata": {},
   "source": [
    "Не смотря на тличия со списками, во множествах используються несколько списковых операций. Например, $\\textbf{len}$.\n",
    "\n",
    "Множества являются неупорядоченными, то есть они не могут быть проиндексированны.\n",
    "\n",
    "$\\textbf{Нельзя}$, что бы они содержали дубликаты. Так как множества не проиндексированы, проверить их на наличие элемента быстрее, чем проверить список.\n",
    "\n",
    "Вместо метода $\\textbf{append}$ для добавления новгого элемента во множество используется $\\textbf{add}$.\n",
    "Метод $\\textbf{remove}$ удаляет определенный элемент из множества; $\\textbf{pop}$ удаляет произвольный элемент."
   ]
  },
  {
   "cell_type": "code",
   "execution_count": 34,
   "metadata": {},
   "outputs": [
    {
     "name": "stdout",
     "output_type": "stream",
     "text": [
      "{1, 2, 3, 4, 5, 6, 7}\n",
      "{1, 2, 4, 5, 6, 7, -7}\n"
     ]
    }
   ],
   "source": [
    "nums = {1, 2, 3, 4, 5, 6, 7}\n",
    "print(nums)\n",
    "nums.add(-7)\n",
    "nums.remove(3)\n",
    "print(nums)"
   ]
  },
  {
   "cell_type": "markdown",
   "metadata": {},
   "source": [
    "В основном $\\textbf{множества}$ применяються для проверки на вхождения и устранения дубликатов."
   ]
  },
  {
   "cell_type": "markdown",
   "metadata": {},
   "source": [
    "Над множествами можно проводить арифмитичесике операции.\n",
    "\n",
    "Оператор $\\textbf{объединения (|)}$ объединяет два множества в одно, содержащее все элементы двух множеств.\n",
    "\n",
    "Оператор $\\textbf{пересечения (&)}$ возвращает только элементы, находящиеся вобоих множествах.\n",
    "\n",
    "Оператор $\\textbf{разности (-)}$ возвращает только элементы первого множества.\n",
    "\n",
    "Оператор $\\textbf{симмерической разности (^)}$ возвращает все элементы с обоих множеств, кроме принадлежащих одновременно обоим."
   ]
  },
  {
   "cell_type": "code",
   "execution_count": 35,
   "metadata": {},
   "outputs": [
    {
     "name": "stdout",
     "output_type": "stream",
     "text": [
      "{1, 2, 3, 4, 5, 6, 7, 8, 9}\n",
      "{4, 5, 6}\n",
      "{1, 2, 3}\n",
      "{8, 9, 7}\n",
      "{1, 2, 3, 7, 8, 9}\n"
     ]
    }
   ],
   "source": [
    "first = {1, 2, 3, 4, 5, 6}\n",
    "second = {4, 5, 6, 7, 8, 9}\n",
    "\n",
    "print(first | second)\n",
    "print(first & second)\n",
    "print(first - second)\n",
    "print(second - first)\n",
    "print(first ^ second)"
   ]
  },
  {
   "cell_type": "markdown",
   "metadata": {},
   "source": [
    "### Структура данных "
   ]
  },
  {
   "cell_type": "markdown",
   "metadata": {},
   "source": [
    "$\\textbf{Словари}$ используються:\n",
    "\n",
    "$\\textbf{-}$ когда необходимо установить логическую связь $\\textbf{ключ:значения}$;\n",
    "\n",
    "$\\textbf{-}$ когда нужно провести быстрый поиск по данным, используя ключ;\n",
    "\n",
    "$\\textbf{-}$ когда даныне нужно часто изменять.\n",
    "\n",
    "$\\textbf{Списки}$ лучше всего использовать когда имеется база данных, к которой нужен произвольный доступ(списки - простая, итерируемсая и, имеющая возможность частой модификации, коллекция данных).\n",
    "\n",
    "$\\textbf{Множества}$ используются тогда, когда нужны уникальные элементы.\n",
    "\n",
    "$\\textbf{Кортежи}$ используются, когда необходимо защитить данные от изменений. "
   ]
  },
  {
   "cell_type": "markdown",
   "metadata": {},
   "source": [
    "# Модуль itertools "
   ]
  },
  {
   "cell_type": "markdown",
   "metadata": {},
   "source": [
    "Модуль $\\textbf{itertools}$ - это стандартная библиотека, которая содержит несколько полезных в функциональном программировании функций. \n",
    "\n",
    "Один тип функций в этой библиотеке - бесконечные итераторы.\n",
    "\n",
    "Функция $\\textbf{count}$ создает бесконечную прогрессию вверх от заданного числа.\n",
    "\n",
    "Функция $\\textbf{cycle}$ бесконечное число раз перебирает итерируемый объект (списко или строку).\n",
    "\n",
    "Функция $\\textbf{repeat}$ повторяет объект бескоенчное (или заданное) количество раз.\n",
    "\n",
    "$\\textbf{Пример:}$"
   ]
  },
  {
   "cell_type": "code",
   "execution_count": 36,
   "metadata": {},
   "outputs": [
    {
     "name": "stdout",
     "output_type": "stream",
     "text": [
      "3\n",
      "4\n",
      "5\n",
      "6\n",
      "7\n",
      "8\n",
      "9\n",
      "10\n",
      "11\n"
     ]
    }
   ],
   "source": [
    "from itertools import count\n",
    "\n",
    "for i in count(3):\n",
    "    print(i)\n",
    "    if i >=11:\n",
    "        break"
   ]
  },
  {
   "cell_type": "markdown",
   "metadata": {},
   "source": [
    "Функция $\\textbf{takewhile}$ - возвращает элементы из итерируемого объекта, которые удвлетворяют предикативной функции.\n",
    "\n",
    "Функция $\\textbf{chain}$ - объединяет несоклько итерируемых объектов в один.\n",
    "\n",
    "Функция $\\textbf{accumulate}$ - возвращение сумму значений внутри итерируемого объекта."
   ]
  },
  {
   "cell_type": "code",
   "execution_count": 37,
   "metadata": {},
   "outputs": [
    {
     "name": "stdout",
     "output_type": "stream",
     "text": [
      "[0, 1, 3, 6, 10, 15, 21, 28]\n",
      "[0, 1, 3, 6]\n"
     ]
    }
   ],
   "source": [
    "from itertools import accumulate, takewhile\n",
    "\n",
    "nums = list(accumulate(range(8)))\n",
    "print(nums)\n",
    "print(list(takewhile(lambda x: x <= 6, nums)))"
   ]
  },
  {
   "cell_type": "markdown",
   "metadata": {},
   "source": [
    "В $\\textbf{itertools}$ есть также несколько комбинаторных функций, например $\\textbf{product}$ и $\\textbf{permutation}$.\n",
    "\n",
    "Они используються, когда нужно выполнить задачу со всеми возможными комбинациями некоторых элеменов.\n",
    "\n",
    "$\\textbf{Пример:}$"
   ]
  },
  {
   "cell_type": "code",
   "execution_count": 40,
   "metadata": {},
   "outputs": [
    {
     "name": "stdout",
     "output_type": "stream",
     "text": [
      "[('A', 0), ('A', 1), ('A', 2), ('A', 3), ('B', 0), ('B', 1), ('B', 2), ('B', 3)]\n",
      "[('A', 'B'), ('B', 'A')]\n"
     ]
    }
   ],
   "source": [
    "from itertools import product, permutations\n",
    "\n",
    "letters = ('A','B')\n",
    "print(list(product(letters,range(4))))\n",
    "print(list(permutations(letters)))      "
   ]
  },
  {
   "cell_type": "markdown",
   "metadata": {},
   "source": [
    "# Классы"
   ]
  },
  {
   "cell_type": "markdown",
   "metadata": {},
   "source": [
    "Классы являются неотъемлимой частью основной парадигмы Python - $\\textbf{объектро-ориентированногопрораммирования}$. Класс описывет объект, но является назевисимым от него. Иными словами, класс -  это экземпляр, описание или определение объекта. Можно использовать класс в качестве образа для создания различных объектов.\n",
    "\n",
    "Классы оформляюься с помощью ключевого слова $\\textbf{class}$ и в виде блока с отступом, содержащим $\\textbf{методы класса}$(которые явяються функциями).\n",
    "\n",
    "$\\textbf{Пример простого класса:}$"
   ]
  },
  {
   "cell_type": "code",
   "execution_count": 41,
   "metadata": {
    "collapsed": true
   },
   "outputs": [],
   "source": [
    "class Cat(object):\n",
    "    def __init__(self, color, legs):\n",
    "        self.color = color\n",
    "        self.legs = legs\n",
    "        \n",
    "felix = Cat('gingir', 4)\n",
    "rover = Cat('dog-colored', 4)\n",
    "stumpy = Cat('browm', 3)"
   ]
  },
  {
   "cell_type": "markdown",
   "metadata": {
    "collapsed": true
   },
   "source": [
    "Метод $\\textbf{__init__}$ - самый важный метод класса. Он вызывается, когда создается экземпляр (объект) класса; имя класса используется как функция.\n",
    "\n",
    "Все методы должны иметь $\\textbf{self}$ в качестве своего первого параметра; хотя $\\textbf{self}$ непосредственно не передается, Python добавляет инстукцию $\\textbf{self}$ в список сам; нет нужды включать self, когда происходит вызов метода. В пределах определения метода, инструкция $\\textbf{self}$ относится к эеземпляру класса, вызывающему метод.\n",
    "\n",
    "Экземпляры класса берут $\\textbf{атрибуты}$ - фраггменты свзаных с ними данных. Их можно получать через $\\textbf{dot notation}$ - указав точку и имя атрибута после экземпляра.\n",
    "\n",
    "Таким образом внутри метода $\\textbf{__init__}$ с помощью $\\textbf{self.attribute}$ можно задать начальное значение атрибутов экземпляра. \n",
    "\n",
    "Метод $\\textbf{__init__}$ называют $\\textbf{конструктор}$ класса.\n",
    "\n",
    "Можно использовать различные методы, расширяя функциональность классов. "
   ]
  },
  {
   "cell_type": "code",
   "execution_count": 2,
   "metadata": {},
   "outputs": [
    {
     "name": "stdout",
     "output_type": "stream",
     "text": [
      "Fido\n",
      "Woof!\n"
     ]
    }
   ],
   "source": [
    "class Dog(object):\n",
    "    def __init__(self, name, color):\n",
    "        self.name = name\n",
    "        self.color = color\n",
    "        \n",
    "    def bark(self):\n",
    "        print(\"Woof!\")\n",
    "        \n",
    "fido = Dog('Fido', 'brown')\n",
    "print(fido.name)\n",
    "fido.bark()"
   ]
  },
  {
   "cell_type": "markdown",
   "metadata": {},
   "source": [
    "Классы могут также иметь $\\textbf{атрибуты класса}$, которые создаются путем присвоения переменных в теле класса. На них можно ссылаться либо из экземпляра класса, либо с тела самого класса. "
   ]
  },
  {
   "cell_type": "code",
   "execution_count": 3,
   "metadata": {},
   "outputs": [
    {
     "name": "stdout",
     "output_type": "stream",
     "text": [
      "4\n",
      "4\n"
     ]
    }
   ],
   "source": [
    "class Dog(object):\n",
    "    legs = 4 \n",
    "    def __init__(self, name, color):\n",
    "        self.name = name\n",
    "        self.color = color\n",
    "        \n",
    "    def bark(self):\n",
    "        print(\"Woof!\")\n",
    "        \n",
    "fido = Dog('Fido', 'brown')\n",
    "print(fido.legs)\n",
    "print(Dog.legs) # атрибуты класса являються общими для всех экземпляров класса"
   ]
  },
  {
   "cell_type": "markdown",
   "metadata": {},
   "source": [
    "Попытка вызова атрибута экземпляра, который не был определен вызывает$\\textbf{AttributeError}$. Такая же ошибка выдается при попытке вызова несуществующего метода.\n",
    "\n",
    "$\\textbf{Пример:}$"
   ]
  },
  {
   "cell_type": "code",
   "execution_count": 4,
   "metadata": {},
   "outputs": [
    {
     "ename": "AttributeError",
     "evalue": "'Rectangle' object has no attribute 'color'",
     "output_type": "error",
     "traceback": [
      "\u001b[1;31m---------------------------------------------------------------------------\u001b[0m",
      "\u001b[1;31mAttributeError\u001b[0m                            Traceback (most recent call last)",
      "\u001b[1;32m<ipython-input-4-24ddf1550d4f>\u001b[0m in \u001b[0;36m<module>\u001b[1;34m()\u001b[0m\n\u001b[0;32m      4\u001b[0m         \u001b[0mself\u001b[0m\u001b[1;33m.\u001b[0m\u001b[0mheight\u001b[0m \u001b[1;33m=\u001b[0m \u001b[0mheight\u001b[0m\u001b[1;33m\u001b[0m\u001b[0m\n\u001b[0;32m      5\u001b[0m \u001b[0mrect\u001b[0m \u001b[1;33m=\u001b[0m \u001b[0mRectangle\u001b[0m\u001b[1;33m(\u001b[0m\u001b[1;36m7\u001b[0m\u001b[1;33m,\u001b[0m \u001b[1;36m8\u001b[0m\u001b[1;33m)\u001b[0m\u001b[1;33m\u001b[0m\u001b[0m\n\u001b[1;32m----> 6\u001b[1;33m \u001b[0mprint\u001b[0m\u001b[1;33m(\u001b[0m\u001b[0mrect\u001b[0m\u001b[1;33m.\u001b[0m\u001b[0mcolor\u001b[0m\u001b[1;33m)\u001b[0m\u001b[1;33m\u001b[0m\u001b[0m\n\u001b[0m",
      "\u001b[1;31mAttributeError\u001b[0m: 'Rectangle' object has no attribute 'color'"
     ]
    }
   ],
   "source": [
    "class Rectangle(object):\n",
    "    def __init__(self, width, height):\n",
    "        self.width = width\n",
    "        self.height = height\n",
    "rect = Rectangle(7, 8)\n",
    "print(rect.color)"
   ]
  },
  {
   "cell_type": "markdown",
   "metadata": {},
   "source": [
    "# Наследование"
   ]
  },
  {
   "cell_type": "markdown",
   "metadata": {},
   "source": [
    "С помощю $\\textbf{наследования}$ можно задать единую функциональность разным классам.\n",
    "\n",
    "Предположим необходимо создать несколько классов $\\textbf{Cat, Dog, Rabbit}$ и другие. Некоторые методы этих классов будут уникальными: только $\\textbf{Dog}$ будет иметь метод $\\textbf{bark}$ (от англ. - лай). Но другие методы будут одинаковыми: все классы будут иметь $\\textbf{color}$ и $\\textbf{name}$.\n",
    "\n",
    "Это сходство можно выразить с помощью функции наследования, так чтобы все классы наследовали общую функциональность от $\\textbf{суперкласса Animal}$. Наследование оформляется путем заключения в круглые скобки имени суперкласса, следующего за именем класса.\n",
    "\n",
    "$\\textbf{Пример:}$"
   ]
  },
  {
   "cell_type": "code",
   "execution_count": 5,
   "metadata": {},
   "outputs": [
    {
     "name": "stdout",
     "output_type": "stream",
     "text": [
      "brown\n",
      "Woof!\n"
     ]
    }
   ],
   "source": [
    "class Animal(object):\n",
    "    def __init__(self, name, color):\n",
    "        self.name = name\n",
    "        self.color = color\n",
    "class Cat(Animal):\n",
    "    def purr(self):\n",
    "        print('Purr...')\n",
    "        \n",
    "class Dog(Animal):\n",
    "    def bark(self):\n",
    "        print(\"Woof!\")\n",
    "        \n",
    "fido = Dog('Fido', 'brown')\n",
    "print(fido.color)\n",
    "fido.bark()"
   ]
  },
  {
   "cell_type": "markdown",
   "metadata": {},
   "source": [
    "Класс, наследующий атрибуты или методы дугого класса, называется $\\textbf{подклассом}$. Класс, из которого наследуються атрибуты или методы, называется $\\textbf{суперклассом}$. \n",
    "\n",
    "Если наследуемый класс имеет такие же атрибуты или методы, что и класс-наследник, то класс-наследник переопределяет их."
   ]
  },
  {
   "cell_type": "code",
   "execution_count": 6,
   "metadata": {},
   "outputs": [
    {
     "name": "stdout",
     "output_type": "stream",
     "text": [
      "Woof\n"
     ]
    }
   ],
   "source": [
    "class Wolf(object):\n",
    "    def __init__(self, name, color):\n",
    "        self.name = name\n",
    "        self.color = color\n",
    "    def bark(self):\n",
    "        print('Grr...')\n",
    "        \n",
    "class Dog(Wolf):\n",
    "    def bark(self):\n",
    "        print('Woof')\n",
    "\n",
    "husky = Dog('Max', 'grey')\n",
    "husky.bark()"
   ]
  },
  {
   "cell_type": "markdown",
   "metadata": {},
   "source": [
    "Наследование может быть также непрямым. Один класс может наследовать от другого класса, который в свою очередь может наследовать от третьего класса. Круговое наследование, тем не менее, не поддерживается.\n",
    "\n",
    "$\\textbf{Пример:}$"
   ]
  },
  {
   "cell_type": "code",
   "execution_count": 7,
   "metadata": {},
   "outputs": [
    {
     "name": "stdout",
     "output_type": "stream",
     "text": [
      "method A\n",
      "method B\n",
      "method C\n"
     ]
    }
   ],
   "source": [
    "class A(object):\n",
    "    def method(self):\n",
    "        print('method A')\n",
    "        \n",
    "class B(A):\n",
    "    def another_method(self):\n",
    "        print('method B')\n",
    "        \n",
    "class C(B):\n",
    "    def third_method(self):\n",
    "        print('method C')\n",
    "        \n",
    "        \n",
    "c = C()\n",
    "c.method()\n",
    "c.another_method()\n",
    "c.third_method()"
   ]
  },
  {
   "cell_type": "markdown",
   "metadata": {},
   "source": [
    "Функция $\\textbf{super}$ - полезная функция наследования, которая указывает на родительский класс. Предназначена для поиска метода по его имени в суперклассе объекта.\n",
    "\n",
    "$\\textbf{Пример:}$"
   ]
  },
  {
   "cell_type": "code",
   "execution_count": 9,
   "metadata": {},
   "outputs": [
    {
     "name": "stdout",
     "output_type": "stream",
     "text": [
      "2\n",
      "1\n"
     ]
    }
   ],
   "source": [
    "class A(object):\n",
    "    def spam(self):\n",
    "        print(1)\n",
    "class B(A):\n",
    "    def spam(self):\n",
    "        print(2)\n",
    "        super().spam()\n",
    "B().spam()"
   ]
  },
  {
   "cell_type": "markdown",
   "metadata": {
    "collapsed": true
   },
   "source": [
    "# Магические методы"
   ]
  },
  {
   "cell_type": "markdown",
   "metadata": {},
   "source": [
    "$\\textbf{Магические методы}$ это специальные методы с $\\textbf{двойным подчеркиванием}$ в начале и конце своих имен (в английском языке они известны как $\\textbf{\"dunders\"}$). До этого момента из подобных рассматривался только $\\textbf{__init__}$, но существует и множество других. Они предназначены для создания специальной функциональности. \n",
    "\n",
    "Магические методы часто применяються для $\\textbf{переопределения операторов}$. Под этим подразумевается определение операторов для пользовательских классов, которые поддерживают такие классы как $\\textbf{+}$ и $\\textbf{*}$.\n",
    "\n",
    "Пример магического метода $\\textbf{__add__}$ для операции $\\textbf{+}$."
   ]
  },
  {
   "cell_type": "code",
   "execution_count": 3,
   "metadata": {},
   "outputs": [
    {
     "name": "stdout",
     "output_type": "stream",
     "text": [
      "8\n",
      "16\n",
      "<class '__main__.Vector2D'>\n"
     ]
    }
   ],
   "source": [
    "class Vector2D(object):\n",
    "    def __init__(self, x, y):\n",
    "        self.x = x\n",
    "        self.y = y\n",
    "    def __add__(self, other):\n",
    "        return Vector2D(self.x + other.x, self.y + other.y)\n",
    "\n",
    "first = Vector2D(5,7)\n",
    "second = Vector2D(3,9)\n",
    "\n",
    "result = first + second\n",
    "\n",
    "print(result.x)\n",
    "print(result.y)\n",
    "print(type(result))"
   ]
  },
  {
   "cell_type": "markdown",
   "metadata": {},
   "source": [
    "Метод $\\textbf{__add__}$ позволяет определить специальное поведение для оператора + в данном классе. Таким образом определяются соответствующие атрибутам объектов и возвращается новый объект, содержащий результат. После этого можно объеденить два объекта класса."
   ]
  },
  {
   "cell_type": "markdown",
   "metadata": {},
   "source": [
    "Магические матоды для распространенных операторов:\n",
    "\n",
    "$\\textbf{__sub__}$ для  $\\textbf{-}$\n",
    "\n",
    "$\\textbf{__mul__}$ для  $\\textbf{*}$\n",
    "\n",
    "$\\textbf{__truediv__}$ для  $\\textbf{/}$\n",
    "\n",
    "$\\textbf{__floordiv__}$ для  $\\textbf{//}$\n",
    "\n",
    "$\\textbf{__mod__}$ для  $\\textbf{%}$\n",
    "\n",
    "$\\textbf{__pow__}$ для  $\\textbf{**}$\n",
    "\n",
    "$\\textbf{__and__}$ для  $\\textbf{&}$\n",
    "\n",
    "$\\textbf{__xor__}$ для  $\\textbf{^}$\n",
    "\n",
    "$\\textbf{__or__}$ для  $\\textbf{|}$\n",
    "\n",
    "Выражение $\\textbf{x + y}$ представляется как $\\textbf{x.__add__(y)}$. Но если метод $\\textbf{__add__}$ не выполняется, а $\\textbf{x}$ и $\\textbf{y}$ различных типов, тогда используется $\\textbf{y.__radd__(x)}$.\n",
    "\n",
    "У всех упомянутых выше магических методов есть аналогичные методы $\\textbf{r}$\n",
    "\n",
    "$\\textbf{Пример:}$"
   ]
  },
  {
   "cell_type": "code",
   "execution_count": 5,
   "metadata": {},
   "outputs": [
    {
     "name": "stdout",
     "output_type": "stream",
     "text": [
      "spam\n",
      "====\n",
      "eggs\n"
     ]
    }
   ],
   "source": [
    "class SpecialString(object):\n",
    "    def __init__(self, cont):\n",
    "        self.cont = cont\n",
    "        \n",
    "    def __truediv__(self, other):\n",
    "        line = '='*len(other.cont)\n",
    "        return '\\n'.join([self.cont, line, other.cont])\n",
    "    \n",
    "spam = SpecialString('spam')\n",
    "hello = SpecialString('eggs')\n",
    "\n",
    "print(spam/hello) # в данном примере определена операция разделения для класса SpecialString"
   ]
  },
  {
   "cell_type": "markdown",
   "metadata": {},
   "source": [
    "В Python также есть магические методы для операций сравнения.\n",
    "\n",
    "$\\textbf{__lt__}$ для  $\\textbf{<}$\n",
    "\n",
    "$\\textbf{__le__}$ для  $\\textbf{<=}$\n",
    "\n",
    "$\\textbf{__eq__}$ для  $\\textbf{==}$\n",
    "\n",
    "$\\textbf{__ne__}$ для  $\\textbf{!=}$\n",
    "\n",
    "$\\textbf{__gt__}$ для  $\\textbf{>}$\n",
    "\n",
    "$\\textbf{__ge__}$ для  $\\textbf{<=}$\n",
    "\n",
    "Если $\\textbf{__ne__}$ не выполнятеся, возвращается значение, противоположное $\\textbf{__eq__}$.\n",
    "Кроме этого, других отношений между различными операторами больше нет.\n",
    "\n",
    "$\\textbf{Пример:}$"
   ]
  },
  {
   "cell_type": "code",
   "execution_count": 6,
   "metadata": {},
   "outputs": [
    {
     "name": "stdout",
     "output_type": "stream",
     "text": [
      ">spam>eggs\n",
      "e>spam>ggs\n",
      "eg>spam>gs\n",
      "egg>spam>s\n",
      "eggs>spam>\n"
     ]
    }
   ],
   "source": [
    "class SpecialString(object):\n",
    "    def __init__(self, cont):\n",
    "        self.cont = cont\n",
    "        \n",
    "    def __gt__(self, other):\n",
    "        for index in range(len(other.cont)+1):\n",
    "            result = other.cont[:index] + '>' + self.cont\n",
    "            result += '>' + other.cont[index:]\n",
    "            \n",
    "            print(result)\n",
    "spam = SpecialString('spam')\n",
    "eggs = SpecialString('eggs')\n",
    "\n",
    "spam > eggs"
   ]
  },
  {
   "cell_type": "markdown",
   "metadata": {},
   "source": [
    "Как видно из примера, переопределяя операторы, можно задавать им любое специальное поведение."
   ]
  },
  {
   "cell_type": "markdown",
   "metadata": {},
   "source": [
    "Сущесвует несколько магических методов, которые задают классам функциональность контейнеров.\n",
    "\n",
    "$\\textbf{__len__}$ для  $\\textbf{len()}$\n",
    "\n",
    "$\\textbf{__getitem__}$ для  $\\textbf{индексации}$\n",
    "\n",
    "$\\textbf{__setitem__}$ для  $\\textbf{присваивания значения индексированному элементу}$\n",
    "\n",
    "$\\textbf{__delitem__}$ для  $\\textbf{удаления индексированных элементов}$ \n",
    "\n",
    "$\\textbf{__iter__}$ для  $\\textbf{перебора объектов}$ (например в циклах) $\\textbf{for}$\n",
    "\n",
    "$\\textbf{__contains__}$ для  $\\textbf{in}$\n",
    "\n",
    "Существуют множество других магических методов, все из которых нет смысла рассматривать:\n",
    "Примеры:\n",
    "$\\textbf{__call__}$ - используется для вызова объектов как функций;\n",
    "$\\textbf{__int__}$, $\\textbf{__str__}$ и другие подобные им - перобразуют объекты в родные для Python типы данных.\n",
    "\n",
    "$\\textbf{Примеры:}$"
   ]
  },
  {
   "cell_type": "code",
   "execution_count": 8,
   "metadata": {},
   "outputs": [
    {
     "name": "stdout",
     "output_type": "stream",
     "text": [
      "2\n",
      "3\n",
      "B\n",
      "C\n"
     ]
    }
   ],
   "source": [
    "import random\n",
    "\n",
    "class VagueList(object):\n",
    "    def __init__(self, cont):\n",
    "        self.cont = cont\n",
    "        \n",
    "    def __getitem__(self, index):\n",
    "        return self.cont[index + random.randint(-1, 1)]\n",
    "    \n",
    "    def __len__(self):\n",
    "        return random.randint(0, len(self.cont)*2)\n",
    "    \n",
    "vague_list = VagueList(['A', 'B', 'C', 'D', 'E'])\n",
    "\n",
    "print(len(vague_list)) # Функция len переопределена и возвращает случайное число\n",
    "print(len(vague_list))\n",
    "print(vague_list[2]) # Функция индексации также переопределена и возвращает случайный элемент в заданном диапазоне\n",
    "print(vague_list[2])"
   ]
  },
  {
   "cell_type": "markdown",
   "metadata": {},
   "source": [
    "# Жизненый цикл объекта"
   ]
  },
  {
   "cell_type": "markdown",
   "metadata": {},
   "source": [
    "$\\textbf{Создние, использование}$ и $\\textbf{уничтожение}$ составляет жизненный цикл объекта.\n",
    "\n",
    "Первый этап жизненного цикла объекта - $\\textbf{определение}$ класса, к которому он принадлежит.\n",
    "Следующий этап - инстанцирование экземпляра, когда вызывается метод $\\textbf{__init__}$. Выделяется память под хранение экземпляра. Непосредственно перед этим вызыается метод класса $\\textbf{__new__}$. Это действие, как правило, отменяется только в редких случаях. После этого объект готов к использованию и с ним можно взаимодействовать: вызывать функции и использовать его атрибуты. В конце концов, когда объект больше не нужен, он может быть уничтожен."
   ]
  },
  {
   "cell_type": "markdown",
   "metadata": {},
   "source": [
    "Когда объект $\\textbf{уничтожается}$, выделенная для него память освобождается и может быть использована для других целей. Уничтожение объекта происходит тогда, когда количество ссылок на него достигает нуля. $\\textbf{Количество ссылок}$ - это число переменных и других элементов, которые ссылаються на объект. Если на объект ничто не ссылается (количество ссылок равно нулю), ничто не взаимодействует с ним, так что его можно смело удалять.\n",
    "\n",
    "В некоторых ситуациях, два (или более) объекта могут ссылаться только друг на друга, и, следовательно, также могут быть удалены.\n",
    "\n",
    "Инструкция $\\textbf{del}$ уменшает количество ссылок объекта на единицу, что часто приводит к его удалению.\n",
    "Для инструкции $\\textbf{del}$ используется магический метод $\\textbf{__del__}$.\n",
    "\n",
    "Процесс удаления ненужных объектов называется $\\textbf{сборкой мусора}$.\n",
    "\n",
    "Когда же объекту присваивается новое имя или его включают в контейнер (список, кортеж, словарь), количество ссылок на него увеличивается на единицу. Число ссылок объекта уменьшается, когда он удаляется с помощью интрукции $\\textbf{del}$, одна из его ссылок была переназначена, или когда его ссылка указывает на элемент за рамки доступного диапазона. Когда количество ссылок объекта достигает нуля, Python  фвтоматически удаляет его.\n",
    "\n",
    "$\\textbf{Пример:}$"
   ]
  },
  {
   "cell_type": "code",
   "execution_count": 12,
   "metadata": {},
   "outputs": [
    {
     "name": "stdout",
     "output_type": "stream",
     "text": [
      "42\n",
      "[42]\n"
     ]
    }
   ],
   "source": [
    "a = 42 # создание объекта <42>\n",
    "b = a # увеличение количества ссылок\n",
    "c = [a] # увеличение количества ссылок\n",
    "\n",
    "del a # уменьшение количества ссылок\n",
    "print(b)\n",
    "b = 100 # уменьшение количества ссылок\n",
    "print(c)\n",
    "c[0] = -1 # уменьшение количества ссылок\n",
    "# В системе не осталось ссылок на объект <42>"
   ]
  },
  {
   "cell_type": "markdown",
   "metadata": {},
   "source": [
    "# Сокрытие данных"
   ]
  },
  {
   "cell_type": "markdown",
   "metadata": {},
   "source": [
    "Одним из ключевых понятий ООП является $\\textbf{инкапсуляция}$ - упаковка в целях простоты использования связанных переменных и функций в один объект (экземпляр класса).\n",
    "\n",
    "$\\textbf{Сокрытие данных}$ - близкое к инкапсуляции понятие, суть которого в том что детали реализации класса должны быть скрыты, и чистый стандартный интерфейс должен быть представлен тем, кто будет использовать класс.\n",
    "\n",
    "В других языках программирования это достигается с использованием частных методов и атрибутов, которые закрывают доступ извне к определенным методам и атрибутам классам.\n",
    "\n",
    "Идеология Python несколько иной направленности. В сообществе Python  часто звучит фраза $\\textbf{\"мы все взрослые и по своему согласию здесь\"}$, что означает, что не следует устанавливать свои ограничения на доступ к отдельным частям класса. Так как все равно невозможно обеспечить строгую частность метода или атрибута. Тем не менее можно сделать предупрежение о доступе к некоторым частям класса, например, указать, что эта деталь должна использоваться на свой страх и риск."
   ]
  },
  {
   "cell_type": "markdown",
   "metadata": {},
   "source": [
    "Условно частные методы и атрибуты оформляются с $\\textbf{единичным подчеркиванием}$ в начале имени. \n",
    "\n",
    "Это частные методы, которые не должны взаимодействовать со внешней частью программы. Но часто это правило условно; внешняя часть программы может получить к ним доступ. \n",
    "\n",
    "Реальная особенность этих методов лишь в том, что $\\textbf{from module_name import *}$ не будет импортировать переменные, которые начинаються с едничного подчеркивания.\n",
    "\n",
    "$\\textbf{Пример:}$"
   ]
  },
  {
   "cell_type": "code",
   "execution_count": 14,
   "metadata": {},
   "outputs": [
    {
     "name": "stdout",
     "output_type": "stream",
     "text": [
      "Queue([1, 2, 3])\n",
      "Queue([0, 1, 2, 3])\n",
      "Queue([0, 1, 2])\n",
      "[0, 1, 2]\n"
     ]
    }
   ],
   "source": [
    "class Queue(object):\n",
    "    def __init__(self, contents):\n",
    "        self._hiddenlist = list(contents)\n",
    "        \n",
    "    def push(self, value):\n",
    "        self._hiddenlist.insert(0, value)\n",
    "        \n",
    "    def pop(self):\n",
    "        return self._hiddenlist.pop(-1)\n",
    "    \n",
    "    def __repr__(self): # __repr__ возвращает экземпляр в виде строки\n",
    "        return 'Queue({})'.format(self._hiddenlist)\n",
    "    \n",
    "    \n",
    "queue = Queue([1, 2, 3])\n",
    "print(queue)\n",
    "queue.push(0)\n",
    "print(queue)\n",
    "queue.pop()\n",
    "print(queue)\n",
    "print(queue._hiddenlist)\n",
    "        \n",
    "    "
   ]
  },
  {
   "cell_type": "markdown",
   "metadata": {},
   "source": [
    "Не смотря на то, что атрибут $\\textbf{_hiddenlist}$ помечен как частный, но внешний код все же может получить к нему доступ."
   ]
  },
  {
   "cell_type": "markdown",
   "metadata": {},
   "source": [
    "Строго частные методы и арибуты оформляються с $\\textbf{двойным подчеркиванием}$ в началеимени. Таким образом их имена искажаються, и внешняя часть программы не может получить к ним доступ. Но это делается не для того, чтобы обеспечить их частность, а что бы избежать ошибок, если где-либо в коде есть подклассы, которые имеют методы или атрибуты с такими же именами. \n",
    "\n",
    "Методы с искаженными именами все же могут быть вызваны извне, но по другим именам. Метод $\\textbf{__privatemethod}$ класса $\\textbf{Spam}$ может быть вызван извне по имени $\\textbf{_Spam__privatemethod}$. \n",
    "\n",
    "$\\textbf{Пример:}$"
   ]
  },
  {
   "cell_type": "code",
   "execution_count": 15,
   "metadata": {},
   "outputs": [
    {
     "name": "stdout",
     "output_type": "stream",
     "text": [
      "7\n",
      "7\n"
     ]
    },
    {
     "ename": "AttributeError",
     "evalue": "'Spam' object has no attribute '__egg'",
     "output_type": "error",
     "traceback": [
      "\u001b[1;31m---------------------------------------------------------------------------\u001b[0m",
      "\u001b[1;31mAttributeError\u001b[0m                            Traceback (most recent call last)",
      "\u001b[1;32m<ipython-input-15-c7731be0bd45>\u001b[0m in \u001b[0;36m<module>\u001b[1;34m()\u001b[0m\n\u001b[0;32m      7\u001b[0m \u001b[0ms\u001b[0m\u001b[1;33m.\u001b[0m\u001b[0mprint_egg\u001b[0m\u001b[1;33m(\u001b[0m\u001b[1;33m)\u001b[0m\u001b[1;33m\u001b[0m\u001b[0m\n\u001b[0;32m      8\u001b[0m \u001b[0mprint\u001b[0m\u001b[1;33m(\u001b[0m\u001b[0ms\u001b[0m\u001b[1;33m.\u001b[0m\u001b[0m_Spam__egg\u001b[0m\u001b[1;33m)\u001b[0m\u001b[1;33m\u001b[0m\u001b[0m\n\u001b[1;32m----> 9\u001b[1;33m \u001b[0mprint\u001b[0m\u001b[1;33m(\u001b[0m\u001b[0ms\u001b[0m\u001b[1;33m.\u001b[0m\u001b[0m__egg\u001b[0m\u001b[1;33m)\u001b[0m\u001b[1;33m\u001b[0m\u001b[0m\n\u001b[0m",
      "\u001b[1;31mAttributeError\u001b[0m: 'Spam' object has no attribute '__egg'"
     ]
    }
   ],
   "source": [
    "class Spam(object):\n",
    "    __egg = 7\n",
    "    def print_egg(self):\n",
    "        print(self.__egg)\n",
    "        \n",
    "s = Spam()\n",
    "s.print_egg()\n",
    "print(s._Spam__egg)\n",
    "print(s.__egg)"
   ]
  },
  {
   "cell_type": "markdown",
   "metadata": {},
   "source": [
    "Практически, Python самостоятельно защищает члены класса: автомаически включая имя класса в их имена."
   ]
  },
  {
   "cell_type": "markdown",
   "metadata": {
    "collapsed": true
   },
   "source": [
    "# Методы класса"
   ]
  },
  {
   "cell_type": "markdown",
   "metadata": {},
   "source": [
    "Методы объектов вызываются экземпляром класса, который затем перетается в параметр $\\textbf{self}$.\n",
    "\n",
    "$\\textbf{Методы класса}$ несколько другие: они вызываються классом, который передается параметру $\\textbf{cls}$ метода. Чаще всего это используется в фабричных методах: создается экземпляр класса, при этом используются иные параметры, чем те, которые обычно передаются в конструктор класса.\n",
    "\n",
    "Методы класса оформляются с $\\textbf{деократором classmethod}$.\n",
    "\n",
    "$\\textbf{Пример:}$"
   ]
  },
  {
   "cell_type": "code",
   "execution_count": 1,
   "metadata": {},
   "outputs": [
    {
     "name": "stdout",
     "output_type": "stream",
     "text": [
      "25\n"
     ]
    }
   ],
   "source": [
    "class Rectangle(object):\n",
    "    def __init__(self, width, height):\n",
    "        self.width = width\n",
    "        self.height =height\n",
    "        \n",
    "    def calculate_area(self):\n",
    "        return self.width * self.height\n",
    "    \n",
    "    @classmethod\n",
    "    def new_square(cls, side_length):\n",
    "        return cls(side_length, side_length)\n",
    "    \n",
    "square = Rectangle.new_square(5)\n",
    "print(square.calculate_area())"
   ]
  },
  {
   "cell_type": "markdown",
   "metadata": {},
   "source": [
    "$\\textbf{new_square}$ - метод класса и вызывается для класса, а не для экземпляра класса.Он возвращает новый объект класса $\\textbf{cls}$."
   ]
  },
  {
   "cell_type": "code",
   "execution_count": 2,
   "metadata": {},
   "outputs": [
    {
     "data": {
      "text/plain": [
       "__main__.Rectangle"
      ]
     },
     "execution_count": 2,
     "metadata": {},
     "output_type": "execute_result"
    }
   ],
   "source": [
    "type(square)"
   ]
  },
  {
   "cell_type": "markdown",
   "metadata": {},
   "source": [
    "Практически параметры $\\textbf{self}$ и $\\textbf{cls}$ используются просто по традиции; вместо них могут использоваться другие. Тем не менее все их используют, так что имеет смысл придрживаться традиции. "
   ]
  },
  {
   "cell_type": "markdown",
   "metadata": {},
   "source": [
    "# Статические методы"
   ]
  },
  {
   "cell_type": "markdown",
   "metadata": {},
   "source": [
    "$\\textbf{Статические методы}$ похожи на методы класса с тем отличием, что они не берут никаких дополнительных аргументов; они аналогичны обычным функциям класса. Они оформляются с декоратором $\\textbf{staticmethod}$.\n",
    "\n",
    "$\\textbf{Пример:}$"
   ]
  },
  {
   "cell_type": "code",
   "execution_count": 3,
   "metadata": {
    "collapsed": true
   },
   "outputs": [],
   "source": [
    "class Pizza(object):\n",
    "    def __init__(self, toppings):\n",
    "        self.toppings = toppings\n",
    "        \n",
    "    @staticmethod\n",
    "    def validate_topping(topping):\n",
    "        if topping == \"pineapple\":\n",
    "            raise ValueError('No pineapples!')\n",
    "        else:\n",
    "            return True\n",
    "ingredients = [\"cheese\", \"onions\", 'spam']\n",
    "if all(Pizza.validate_topping(i) for i in ingredients):\n",
    "    pizza = Pizza(ingredients)"
   ]
  },
  {
   "cell_type": "markdown",
   "metadata": {},
   "source": [
    "Статические методы ведут себя как обычные функции с тем отличием, что их можно вызвать экземпляром класса."
   ]
  },
  {
   "cell_type": "markdown",
   "metadata": {},
   "source": [
    "# Свойства"
   ]
  },
  {
   "cell_type": "markdown",
   "metadata": {},
   "source": [
    "В $\\textbf{свойствах}$ можно настроить доступ к атрибутам экземпляра. \n",
    "\n",
    "Чтобы создать свойства, непосредсвенно перед методом помещается декоратор $\\textbf{property}$: при вызове атрибута экземпляра с таким же именем, что и у метода, вместо него будет вызван метод. Один из распросраненных способов их применения - присвоение атрибуту свойства $\\textbf{\"только для чтения\"}$.\n",
    "\n",
    "$\\textbf{Пример:}$"
   ]
  },
  {
   "cell_type": "code",
   "execution_count": 4,
   "metadata": {},
   "outputs": [
    {
     "name": "stdout",
     "output_type": "stream",
     "text": [
      "False\n"
     ]
    },
    {
     "ename": "AttributeError",
     "evalue": "can't set attribute",
     "output_type": "error",
     "traceback": [
      "\u001b[1;31m---------------------------------------------------------------------------\u001b[0m",
      "\u001b[1;31mAttributeError\u001b[0m                            Traceback (most recent call last)",
      "\u001b[1;32m<ipython-input-4-a888ecb28e6c>\u001b[0m in \u001b[0;36m<module>\u001b[1;34m()\u001b[0m\n\u001b[0;32m      9\u001b[0m \u001b[0mpizza\u001b[0m \u001b[1;33m=\u001b[0m \u001b[0mPizza\u001b[0m\u001b[1;33m(\u001b[0m\u001b[1;33m[\u001b[0m\u001b[1;34m'cheese'\u001b[0m\u001b[1;33m,\u001b[0m\u001b[1;34m'tomato'\u001b[0m\u001b[1;33m]\u001b[0m\u001b[1;33m)\u001b[0m\u001b[1;33m\u001b[0m\u001b[0m\n\u001b[0;32m     10\u001b[0m \u001b[0mprint\u001b[0m\u001b[1;33m(\u001b[0m\u001b[0mpizza\u001b[0m\u001b[1;33m.\u001b[0m\u001b[0mpineapple_allowed\u001b[0m\u001b[1;33m)\u001b[0m\u001b[1;33m\u001b[0m\u001b[0m\n\u001b[1;32m---> 11\u001b[1;33m \u001b[0mpizza\u001b[0m\u001b[1;33m.\u001b[0m\u001b[0mpineapple_allowed\u001b[0m \u001b[1;33m=\u001b[0m \u001b[1;32mTrue\u001b[0m\u001b[1;33m\u001b[0m\u001b[0m\n\u001b[0m",
      "\u001b[1;31mAttributeError\u001b[0m: can't set attribute"
     ]
    }
   ],
   "source": [
    "class Pizza(object):\n",
    "    def __init__(self, toppings):\n",
    "        self.toppings = toppings\n",
    "        \n",
    "    @property\n",
    "    def pineapple_allowed(self):\n",
    "        return False\n",
    "    \n",
    "pizza = Pizza(['cheese','tomato'])\n",
    "print(pizza.pineapple_allowed)\n",
    "pizza.pineapple_allowed = True"
   ]
  },
  {
   "cell_type": "markdown",
   "metadata": {},
   "source": [
    "Свойства также могут быть заданы с помощью функций $\\textbf{setter/getter}$.\n",
    "\n",
    "Функция $\\textbf{setter}$ устанавливает значение соответствующего свойства.\n",
    "\n",
    "Функция $\\textbf{getter}$ возвращает значение.\n",
    "\n",
    "Что бы определить $\\textbf{setter}$, используется декоратор с таким же именем, что и у свойства, с последующим ключевым словом $\\textbf{setter}$, разделенные точкой. Точно так же определяются функции $\\textbf{getter}$.\n",
    "\n",
    "$\\textbf{Пример:}$"
   ]
  },
  {
   "cell_type": "code",
   "execution_count": 7,
   "metadata": {},
   "outputs": [
    {
     "name": "stdout",
     "output_type": "stream",
     "text": [
      "False\n",
      "Enter the password:Sw0rdf1sh!\n",
      "True\n"
     ]
    }
   ],
   "source": [
    "class Pizza(object):\n",
    "    def __init__(self, toppings):\n",
    "        self.toppings = toppings\n",
    "        self._pineapple_allowed = False\n",
    "        \n",
    "    @property\n",
    "    def pineapple_allowed(self):\n",
    "        return self._pineapple_allowed\n",
    "    @pineapple_allowed.setter\n",
    "    def pineapple_allowed(self, value):\n",
    "        if value:\n",
    "            password = input('Enter the password:')\n",
    "            if password == 'Sw0rdf1sh!':\n",
    "                self._pineapple_allowed = value\n",
    "            else:\n",
    "                raise ValueError('Alert! Intruder!')\n",
    "                \n",
    "pizza = Pizza(['cheese','tomato'])\n",
    "print(pizza.pineapple_allowed)\n",
    "pizza.pineapple_allowed = True\n",
    "print(pizza.pineapple_allowed)"
   ]
  },
  {
   "cell_type": "markdown",
   "metadata": {
    "collapsed": true
   },
   "source": [
    "# Простая игра"
   ]
  },
  {
   "cell_type": "markdown",
   "metadata": {},
   "source": [
    "При работе с различными объектами и их отношениями широко используется объектная ориентация. Основная область применения - разработка игр, где часто используются персонажи с различной функциональностью.\n",
    "\n",
    "Ниже будет приведен пример простой игры (текстового кеста), на котором можно понять принципы работы и взаимодействия классов.\n",
    "Для начала функция, обрабатывающая ввод и делающая простой разбор."
   ]
  },
  {
   "cell_type": "code",
   "execution_count": 8,
   "metadata": {},
   "outputs": [
    {
     "name": "stdout",
     "output_type": "stream",
     "text": [
      ":say Hello1\n",
      "You said Hello1\n",
      ":say y\n",
      "You said y\n",
      ":test\n",
      "Unknown verb test\n"
     ]
    },
    {
     "ename": "UnboundLocalError",
     "evalue": "local variable 'verb' referenced before assignment",
     "output_type": "error",
     "traceback": [
      "\u001b[1;31m---------------------------------------------------------------------------\u001b[0m",
      "\u001b[1;31mUnboundLocalError\u001b[0m                         Traceback (most recent call last)",
      "\u001b[1;32m<ipython-input-8-729fd5d9490f>\u001b[0m in \u001b[0;36m<module>\u001b[1;34m()\u001b[0m\n\u001b[0;32m     21\u001b[0m \u001b[1;33m\u001b[0m\u001b[0m\n\u001b[0;32m     22\u001b[0m \u001b[1;32mwhile\u001b[0m \u001b[1;32mTrue\u001b[0m\u001b[1;33m:\u001b[0m\u001b[1;33m\u001b[0m\u001b[0m\n\u001b[1;32m---> 23\u001b[1;33m     \u001b[0mget_input\u001b[0m\u001b[1;33m(\u001b[0m\u001b[1;33m)\u001b[0m\u001b[1;33m\u001b[0m\u001b[0m\n\u001b[0m",
      "\u001b[1;32m<ipython-input-8-729fd5d9490f>\u001b[0m in \u001b[0;36mget_input\u001b[1;34m()\u001b[0m\n\u001b[0;32m     10\u001b[0m         \u001b[0mprint\u001b[0m\u001b[1;33m(\u001b[0m\u001b[0mverb\u001b[0m\u001b[1;33m(\u001b[0m\u001b[0mnoun_word\u001b[0m\u001b[1;33m)\u001b[0m\u001b[1;33m)\u001b[0m\u001b[1;33m\u001b[0m\u001b[0m\n\u001b[0;32m     11\u001b[0m     \u001b[1;32melse\u001b[0m\u001b[1;33m:\u001b[0m\u001b[1;33m\u001b[0m\u001b[0m\n\u001b[1;32m---> 12\u001b[1;33m         \u001b[0mprint\u001b[0m\u001b[1;33m(\u001b[0m\u001b[0mverb\u001b[0m\u001b[1;33m(\u001b[0m\u001b[1;33m)\u001b[0m\u001b[1;33m)\u001b[0m\u001b[1;33m\u001b[0m\u001b[0m\n\u001b[0m\u001b[0;32m     13\u001b[0m     \u001b[1;32mreturn\u001b[0m\u001b[1;33m\u001b[0m\u001b[0m\n\u001b[0;32m     14\u001b[0m \u001b[1;33m\u001b[0m\u001b[0m\n",
      "\u001b[1;31mUnboundLocalError\u001b[0m: local variable 'verb' referenced before assignment"
     ]
    }
   ],
   "source": [
    "def get_input():\n",
    "    command = input(':').split()\n",
    "    verb_word = command[0]\n",
    "    if verb_word in verb_dict:\n",
    "        verb = verb_dict[verb_word]\n",
    "    else:\n",
    "        print('Unknown verb {}'.format(verb_word))\n",
    "    if len(command) >= 2:\n",
    "        noun_word = command[1]\n",
    "        print(verb(noun_word))\n",
    "    else:\n",
    "        print(verb())\n",
    "    return\n",
    "    \n",
    "def say(noun):\n",
    "    return('You said {}'.format(noun))\n",
    "\n",
    "verb_dict = {\n",
    "    'say': say,\n",
    "}\n",
    "\n",
    "while True:\n",
    "    get_input()"
   ]
  },
  {
   "cell_type": "code",
   "execution_count": 13,
   "metadata": {},
   "outputs": [
    {
     "name": "stdout",
     "output_type": "stream",
     "text": [
      "25\n"
     ]
    }
   ],
   "source": [
    "# просто чекинг\n",
    "def no(x):\n",
    "    return x**2\n",
    "\n",
    "def yes(x):\n",
    "    return x**3\n",
    "\n",
    "func = {'no': no, 'yes': yes}\n",
    "\n",
    "new_func = func['no']\n",
    "\n",
    "print(new_func(5))"
   ]
  },
  {
   "cell_type": "markdown",
   "metadata": {},
   "source": [
    "Создание игровых объектов с помощью классов"
   ]
  },
  {
   "cell_type": "code",
   "execution_count": 19,
   "metadata": {
    "collapsed": true
   },
   "outputs": [],
   "source": [
    "class GameObject(object):\n",
    "    class_name = ''\n",
    "    desc = ''\n",
    "    objects = {}\n",
    "    \n",
    "    def __init__(self, name):\n",
    "        self.name = name\n",
    "        GameObject.objects[self.class_name] = self\n",
    "        \n",
    "    def get_desc(self):\n",
    "        return self.class_name + '\\n' + self.desc\n",
    "class Goblin(GameObject):\n",
    "    class_name = 'goblin'\n",
    "    desc = 'A foul creature'\n",
    "    \n",
    "goblin = Goblin('Gobbly')\n",
    "\n",
    "def examine(noun):\n",
    "    if noun in GameObject.objects:\n",
    "        return GameObject.objects[noun].get_desc()\n",
    "    else:\n",
    "        return \"There is no {} here\".format(noun)"
   ]
  },
  {
   "cell_type": "markdown",
   "metadata": {},
   "source": [
    "Создается класс $\\textbf{Goblin}$, который нааследует от класса $\\textbf{GameObjects}$. Помимо этого создается новыя функция $\\textbf{examine}$, которая возвращает описание объектов. Теперь можно добавить новый глагол \"исследуй\" в словарь и использовать его."
   ]
  },
  {
   "cell_type": "code",
   "execution_count": 20,
   "metadata": {
    "collapsed": true
   },
   "outputs": [],
   "source": [
    "verb_dict = {\"say\": say, \"examine\": examine, \"hit\": hit}\n"
   ]
  },
  {
   "cell_type": "code",
   "execution_count": 14,
   "metadata": {},
   "outputs": [
    {
     "name": "stdout",
     "output_type": "stream",
     "text": [
      ":say hello\n",
      "You said hello\n",
      ":examine goblin\n",
      "goblin\n",
      "A foul creature\n",
      ":examine elf\n",
      "There is no elf here\n",
      ":\n"
     ]
    },
    {
     "ename": "IndexError",
     "evalue": "list index out of range",
     "output_type": "error",
     "traceback": [
      "\u001b[1;31m---------------------------------------------------------------------------\u001b[0m",
      "\u001b[1;31mIndexError\u001b[0m                                Traceback (most recent call last)",
      "\u001b[1;32m<ipython-input-14-2fbfbcafec9d>\u001b[0m in \u001b[0;36m<module>\u001b[1;34m()\u001b[0m\n\u001b[0;32m      1\u001b[0m \u001b[1;32mwhile\u001b[0m \u001b[1;32mTrue\u001b[0m\u001b[1;33m:\u001b[0m\u001b[1;33m\u001b[0m\u001b[0m\n\u001b[1;32m----> 2\u001b[1;33m     \u001b[0mget_input\u001b[0m\u001b[1;33m(\u001b[0m\u001b[1;33m)\u001b[0m\u001b[1;33m\u001b[0m\u001b[0m\n\u001b[0m",
      "\u001b[1;32m<ipython-input-8-729fd5d9490f>\u001b[0m in \u001b[0;36mget_input\u001b[1;34m()\u001b[0m\n\u001b[0;32m      1\u001b[0m \u001b[1;32mdef\u001b[0m \u001b[0mget_input\u001b[0m\u001b[1;33m(\u001b[0m\u001b[1;33m)\u001b[0m\u001b[1;33m:\u001b[0m\u001b[1;33m\u001b[0m\u001b[0m\n\u001b[0;32m      2\u001b[0m     \u001b[0mcommand\u001b[0m \u001b[1;33m=\u001b[0m \u001b[0minput\u001b[0m\u001b[1;33m(\u001b[0m\u001b[1;34m':'\u001b[0m\u001b[1;33m)\u001b[0m\u001b[1;33m.\u001b[0m\u001b[0msplit\u001b[0m\u001b[1;33m(\u001b[0m\u001b[1;33m)\u001b[0m\u001b[1;33m\u001b[0m\u001b[0m\n\u001b[1;32m----> 3\u001b[1;33m     \u001b[0mverb_word\u001b[0m \u001b[1;33m=\u001b[0m \u001b[0mcommand\u001b[0m\u001b[1;33m[\u001b[0m\u001b[1;36m0\u001b[0m\u001b[1;33m]\u001b[0m\u001b[1;33m\u001b[0m\u001b[0m\n\u001b[0m\u001b[0;32m      4\u001b[0m     \u001b[1;32mif\u001b[0m \u001b[0mverb_word\u001b[0m \u001b[1;32min\u001b[0m \u001b[0mverb_dict\u001b[0m\u001b[1;33m:\u001b[0m\u001b[1;33m\u001b[0m\u001b[0m\n\u001b[0;32m      5\u001b[0m         \u001b[0mverb\u001b[0m \u001b[1;33m=\u001b[0m \u001b[0mverb_dict\u001b[0m\u001b[1;33m[\u001b[0m\u001b[0mverb_word\u001b[0m\u001b[1;33m]\u001b[0m\u001b[1;33m\u001b[0m\u001b[0m\n",
      "\u001b[1;31mIndexError\u001b[0m: list index out of range"
     ]
    }
   ],
   "source": [
    "while True:\n",
    "    get_input()"
   ]
  },
  {
   "cell_type": "markdown",
   "metadata": {},
   "source": [
    "Далее добавляем дополнительные детали класса $\\textbf{Goblin}$ и возможность $\\textbf{бороться}$ против гоблинов. "
   ]
  },
  {
   "cell_type": "code",
   "execution_count": 21,
   "metadata": {
    "collapsed": true
   },
   "outputs": [],
   "source": [
    "class Goblin(GameObject):\n",
    "    def __init__(self, name):\n",
    "        self.class_name = 'goblin'\n",
    "        self.health = 3\n",
    "        self._desc = 'A foul creature'\n",
    "        super().__init__(name)\n",
    "        \n",
    "    @property\n",
    "    def desc(self):\n",
    "        if self.health >= 3:\n",
    "            return self._desc\n",
    "        elif self.health == 2:\n",
    "            health_line = 'It has a wound on its knee.'\n",
    "        elif self.health == 1:\n",
    "            health_line = 'Its left arm has been cut off!'\n",
    "        elif self.health <= 0:\n",
    "            health_line = 'It is dead.'\n",
    "        return self._desc + '\\n' + health_line\n",
    "    \n",
    "    @desc.setter\n",
    "    def desc(self, value):\n",
    "        self._desc = value\n",
    "        \n",
    "def hit(noun):\n",
    "    if noun in GameObject.objects:\n",
    "        thing = GameObject.objects[noun]\n",
    "        if type(thing) == Goblin:\n",
    "            thing.health = thing.health - 1\n",
    "            if thing.health <= 0:\n",
    "                msg = 'You killed the goblin'\n",
    "            else:\n",
    "                msg = 'You hit the {}'.format(thing.class_name)\n",
    "        else:\n",
    "            msg = 'There is no {} here'.format(noun)\n",
    "    return msg\n",
    "        \n",
    "        "
   ]
  },
  {
   "cell_type": "code",
   "execution_count": 23,
   "metadata": {
    "collapsed": true
   },
   "outputs": [],
   "source": [
    "goblin = Goblin('Gobbly')"
   ]
  },
  {
   "cell_type": "code",
   "execution_count": 24,
   "metadata": {},
   "outputs": [
    {
     "name": "stdout",
     "output_type": "stream",
     "text": [
      ":hit goblin\n",
      "You hit the goblin\n",
      ":hit goblin\n",
      "You hit the goblin\n",
      ":examine gobline\n",
      "There is no gobline here\n",
      ":examine goblin\n",
      "goblin\n",
      "A foul creature\n",
      "Its left arm has been cut off!\n",
      ":hit goblin\n",
      "You killed the goblin\n",
      ":\n"
     ]
    },
    {
     "ename": "IndexError",
     "evalue": "list index out of range",
     "output_type": "error",
     "traceback": [
      "\u001b[1;31m---------------------------------------------------------------------------\u001b[0m",
      "\u001b[1;31mIndexError\u001b[0m                                Traceback (most recent call last)",
      "\u001b[1;32m<ipython-input-24-2fbfbcafec9d>\u001b[0m in \u001b[0;36m<module>\u001b[1;34m()\u001b[0m\n\u001b[0;32m      1\u001b[0m \u001b[1;32mwhile\u001b[0m \u001b[1;32mTrue\u001b[0m\u001b[1;33m:\u001b[0m\u001b[1;33m\u001b[0m\u001b[0m\n\u001b[1;32m----> 2\u001b[1;33m     \u001b[0mget_input\u001b[0m\u001b[1;33m(\u001b[0m\u001b[1;33m)\u001b[0m\u001b[1;33m\u001b[0m\u001b[0m\n\u001b[0m",
      "\u001b[1;32m<ipython-input-8-729fd5d9490f>\u001b[0m in \u001b[0;36mget_input\u001b[1;34m()\u001b[0m\n\u001b[0;32m      1\u001b[0m \u001b[1;32mdef\u001b[0m \u001b[0mget_input\u001b[0m\u001b[1;33m(\u001b[0m\u001b[1;33m)\u001b[0m\u001b[1;33m:\u001b[0m\u001b[1;33m\u001b[0m\u001b[0m\n\u001b[0;32m      2\u001b[0m     \u001b[0mcommand\u001b[0m \u001b[1;33m=\u001b[0m \u001b[0minput\u001b[0m\u001b[1;33m(\u001b[0m\u001b[1;34m':'\u001b[0m\u001b[1;33m)\u001b[0m\u001b[1;33m.\u001b[0m\u001b[0msplit\u001b[0m\u001b[1;33m(\u001b[0m\u001b[1;33m)\u001b[0m\u001b[1;33m\u001b[0m\u001b[0m\n\u001b[1;32m----> 3\u001b[1;33m     \u001b[0mverb_word\u001b[0m \u001b[1;33m=\u001b[0m \u001b[0mcommand\u001b[0m\u001b[1;33m[\u001b[0m\u001b[1;36m0\u001b[0m\u001b[1;33m]\u001b[0m\u001b[1;33m\u001b[0m\u001b[0m\n\u001b[0m\u001b[0;32m      4\u001b[0m     \u001b[1;32mif\u001b[0m \u001b[0mverb_word\u001b[0m \u001b[1;32min\u001b[0m \u001b[0mverb_dict\u001b[0m\u001b[1;33m:\u001b[0m\u001b[1;33m\u001b[0m\u001b[0m\n\u001b[0;32m      5\u001b[0m         \u001b[0mverb\u001b[0m \u001b[1;33m=\u001b[0m \u001b[0mverb_dict\u001b[0m\u001b[1;33m[\u001b[0m\u001b[0mverb_word\u001b[0m\u001b[1;33m]\u001b[0m\u001b[1;33m\u001b[0m\u001b[0m\n",
      "\u001b[1;31mIndexError\u001b[0m: list index out of range"
     ]
    }
   ],
   "source": [
    "while True:\n",
    "    get_input()"
   ]
  },
  {
   "cell_type": "markdown",
   "metadata": {},
   "source": [
    "# Регулярные выражения"
   ]
  },
  {
   "cell_type": "markdown",
   "metadata": {},
   "source": [
    "Регулярные выражения в Python создаются с использованием модуля $\\textbf{re}$, входящего в стандартную библиотеку.\n",
    "\n",
    "После того, как определяется регулярное выражение, с помощью функции $\\textbf{re.match}$ можно определить, если ли совпадения $\\textbf{в начале}$ строки.\n",
    "\n",
    "Если совпадение найдено, $\\textbf{match}$ возвращает объект совпадения; в противном случае возвращается $\\textbf{None}$. Во избежание путаницы в примерах будут использоваться \"сырые\" строки формата $\\textbf{r\"выражение\"}$.  Сырые строки ничего не экранируют, поэтому с регулярными выражениями так легче работать.\n",
    "\n",
    "$\\textbf{Пример:}$"
   ]
  },
  {
   "cell_type": "code",
   "execution_count": 25,
   "metadata": {},
   "outputs": [
    {
     "name": "stdout",
     "output_type": "stream",
     "text": [
      "Match\n"
     ]
    }
   ],
   "source": [
    "import re\n",
    "\n",
    "patten = r'spam'\n",
    "\n",
    "if re.match(patten, 'spamspamspam'):\n",
    "    print('Match')\n",
    "else:\n",
    "    print('No match')"
   ]
  },
  {
   "cell_type": "markdown",
   "metadata": {},
   "source": [
    "Для поиска совпадений используются и другие функции, такие как $\\textbf{re.search}$ и $\\textbf{re.findall}$.\n",
    "\n",
    "Функция $\\textbf{re.search}$ используется для поиска набора символов в любом месте строки. \n",
    "\n",
    "Функция $\\textbf{re.findall}$ возвращает список всех подстрок, которые совпадают с искомым набором символов.\n",
    "\n",
    "$\\textbf{Пример:}$"
   ]
  },
  {
   "cell_type": "code",
   "execution_count": 27,
   "metadata": {},
   "outputs": [
    {
     "name": "stdout",
     "output_type": "stream",
     "text": [
      "No match\n",
      "Match\n",
      "['spam', 'spam']\n"
     ]
    }
   ],
   "source": [
    "if re.match(patten, 'eggspamsausagespam'):\n",
    "    print('Match')\n",
    "else:\n",
    "    print('No match')\n",
    "    \n",
    "if re.search(patten, 'eggspamsausagespam'):\n",
    "    print('Match')\n",
    "else:\n",
    "    print('No match')\n",
    "    \n",
    "print(re.findall(patten, 'eggspamsausagespam'))"
   ]
  },
  {
   "cell_type": "markdown",
   "metadata": {},
   "source": [
    "В первом примере функция $\\textbf{re.match}$ не нашла совпадений, так как она искала в начале строки."
   ]
  },
  {
   "cell_type": "markdown",
   "metadata": {},
   "source": [
    "Функция $\\textbf{re.finditer}$ делает тоже самое, что и $\\textbf{re.findall}$, за исключением того, что она возвращает итератор, а не список."
   ]
  },
  {
   "cell_type": "code",
   "execution_count": 28,
   "metadata": {},
   "outputs": [
    {
     "name": "stdout",
     "output_type": "stream",
     "text": [
      "<callable_iterator object at 0x7f4e2f484320>\n"
     ]
    }
   ],
   "source": [
    "print(re.finditer(patten, 'eggspamsausagespam'))"
   ]
  },
  {
   "cell_type": "markdown",
   "metadata": {},
   "source": [
    "Поиск с регулярными выражениями возвращает объект с несколькими методами, содержащими информацию об объекте.\n",
    "\n",
    "Это такие методы как $\\textbf{group}$, возвращающий совпадающую строку, $\\textbf{start}$ и $\\textbf{end}$, возвращает начальную и конечную позицию первого совпадения, и $\\textbf{span}$, возвращает начальную и конечную позицию первого совпадения в виде кортежа.\n",
    "\n",
    "$\\textbf{Пример:}$"
   ]
  },
  {
   "cell_type": "code",
   "execution_count": 29,
   "metadata": {},
   "outputs": [
    {
     "name": "stdout",
     "output_type": "stream",
     "text": [
      "pam\n",
      "4\n",
      "7\n",
      "(4, 7)\n"
     ]
    }
   ],
   "source": [
    "pattern = r'pam'\n",
    "\n",
    "match = re.search(pattern, 'eggspamsausagespam')\n",
    "if match:\n",
    "    print(match.group())\n",
    "    print(match.start())\n",
    "    print(match.end())\n",
    "    print(match.span())"
   ]
  },
  {
   "cell_type": "markdown",
   "metadata": {},
   "source": [
    "## Поиск с заменой "
   ]
  },
  {
   "cell_type": "markdown",
   "metadata": {},
   "source": [
    "Один из наиболее выжных методов $\\textbf{re}$, используемых в регулярных выражениях, метод $\\textbf{sub}$.\n",
    "\n",
    "$\\textbf{Синтаксис: }$"
   ]
  },
  {
   "cell_type": "code",
   "execution_count": null,
   "metadata": {
    "collapsed": true
   },
   "outputs": [],
   "source": [
    "re.sub(patten, repl, string, max = 0)"
   ]
  },
  {
   "cell_type": "markdown",
   "metadata": {},
   "source": [
    "Этот метод заменяет все упоминания $\\textbf{набора символов}$ в строке на $\\textbf{repl}$: заменяются все упонимания, если не установлено ограничение $\\textbf{max}$. Метод возвращает новую версию строки.\n",
    "\n",
    "$\\textbf{Пример:}$"
   ]
  },
  {
   "cell_type": "code",
   "execution_count": 30,
   "metadata": {},
   "outputs": [
    {
     "name": "stdout",
     "output_type": "stream",
     "text": [
      "My name is Amy. Hi Amy\n"
     ]
    }
   ],
   "source": [
    "string = 'My name is David. Hi David'\n",
    "pattern = r'David'\n",
    "newString = re.sub(pattern, 'Amy', string)\n",
    "print(newString)"
   ]
  },
  {
   "cell_type": "markdown",
   "metadata": {},
   "source": [
    "## Метасимволы "
   ]
  },
  {
   "cell_type": "markdown",
   "metadata": {},
   "source": [
    "Именно благодаря использованию $\\textbf{метасимволов}$ регулярные выражения эффективнее обычных строковых методов. Они позволяют выражать с помощью регулярных выражений такие сложные условия, как \"одно или несколько повторений гласных\". \n",
    "\n",
    "Существование метасимволов несколько усложняет создание регулярных выражений, состоящих из обычных символов, являющихся также метасимволами, например \\$. В таких случаях метасимволы необходимо экранировать, ставя пред ними $\\textbf{обратную косую черту}$.\n",
    "\n",
    "Хотятакой способ также может создать проблемы, так как обрятные косые черты также имеют функцию экранирования. По этой причине может понадобиться три или четыре бэкслеша в строке. Что бы избежать этого, можно использовать сырую строку."
   ]
  },
  {
   "cell_type": "markdown",
   "metadata": {},
   "source": [
    "$\\textbf{Точка}$ означает $\\textbf{любой символ}$, исключая символ новой строки.\n",
    "\n",
    "$\\textbf{Пример:}$"
   ]
  },
  {
   "cell_type": "code",
   "execution_count": 31,
   "metadata": {},
   "outputs": [
    {
     "name": "stdout",
     "output_type": "stream",
     "text": [
      "Match 1\n",
      "Match 2\n"
     ]
    }
   ],
   "source": [
    "pattern = r'gr.y'\n",
    "\n",
    "if re.match(pattern, 'grey'):\n",
    "    print('Match 1')\n",
    "if re.match(pattern, 'gray'):\n",
    "    print('Match 2')\n",
    "if re.match(pattern, 'blue'):\n",
    "    print('Match 3')"
   ]
  },
  {
   "cell_type": "markdown",
   "metadata": {},
   "source": [
    "Метасимволы $\\textbf{^}$ и $\\textbf{\\$}$ указывают соответственно на $\\textbf{начало}$ и $\\textbf{конец}$ строки.\n",
    "\n",
    "$\\textbf{Пример:}$"
   ]
  },
  {
   "cell_type": "code",
   "execution_count": 40,
   "metadata": {},
   "outputs": [
    {
     "name": "stdout",
     "output_type": "stream",
     "text": [
      "Match 1\n",
      "Match 2\n"
     ]
    }
   ],
   "source": [
    "pattern = r'^gr.y$' #н данный набор символов означает, что строка должна начинаться с gr, в середине содержать\n",
    "# любой символ, за исключением символа новой строки, и заканчиваться на y.\n",
    "\n",
    "if re.match(pattern, 'grey'):\n",
    "    print('Match 1')\n",
    "if re.match(pattern, 'gray'):\n",
    "    print('Match 2')\n",
    "if re.match(pattern, 'stingray'):\n",
    "    print('Match 3')"
   ]
  },
  {
   "cell_type": "markdown",
   "metadata": {},
   "source": [
    "## Классы символов "
   ]
  },
  {
   "cell_type": "markdown",
   "metadata": {},
   "source": [
    "$\\textbf{Классы символов}$ предназначены для поиска конкретного символа из набора символов.\n",
    "\n",
    "Класс символов создается путем заключения искомых символов в $\\textbf{квадратные скобки}$.\n",
    "\n",
    "$\\textbf{Пример:}$"
   ]
  },
  {
   "cell_type": "code",
   "execution_count": 35,
   "metadata": {},
   "outputs": [
    {
     "name": "stdout",
     "output_type": "stream",
     "text": [
      "Match 1\n",
      "Match 2\n"
     ]
    }
   ],
   "source": [
    "pattern = r'[aeiou]' # при поиске с таким набором будут найдены все строки, содержащие хотя бы один символ с набора\n",
    "\n",
    "if re.search(pattern, 'grey'):\n",
    "    print('Match 1')\n",
    "if re.search(pattern, 'qwertyuiop'):\n",
    "    print('Match 2')\n",
    "if re.search(pattern, 'rhythm myths'):\n",
    "    print('Match 3')"
   ]
  },
  {
   "cell_type": "markdown",
   "metadata": {},
   "source": [
    "Классы символов могут также использоваться для поиска символов в заданном диапазоне.\n",
    "\n",
    "Несколько примеров:\n",
    "\n",
    "класс $\\textbf{[a - z]}$ - поиск любой строчной буквы.\n",
    "\n",
    "класс $\\textbf{[G - P]}$ - поиск любого символа верхнего регистра от G до P.\n",
    "\n",
    "класс $\\textbf{[0 - 9]}$ - поиск любой цифры.\n",
    "\n",
    "Класс может состоять из более чем одного диапазона. Нпример, класс $\\textbf{[A - z a - z]}$ означает поиск любой буквы алфавита верхнего или нижнего регистра.\n",
    "\n",
    "$\\textbf{Пример:}$"
   ]
  },
  {
   "cell_type": "code",
   "execution_count": 38,
   "metadata": {},
   "outputs": [
    {
     "name": "stdout",
     "output_type": "stream",
     "text": [
      "Match 1\n"
     ]
    }
   ],
   "source": [
    "pattern = r'[A-Z][A-Z][0-9]'\n",
    "\n",
    "if re.search(pattern, 'LS8'):\n",
    "    print('Match 1')\n",
    "if re.search(pattern, 'E3'):\n",
    "    print('Match 2')\n",
    "if re.search(pattern, '1ab'):\n",
    "    print('Match 3')"
   ]
  },
  {
   "cell_type": "markdown",
   "metadata": {},
   "source": [
    "Чтобы $\\textbf{инвертировать}$ класс символов, нужно поместить $\\textbf{^}$ в начало определения класса.\n",
    "\n",
    "Эта команда ищет любой символов, кроме символов класса.\n",
    "\n",
    "Другие метасимволы, такие как $\\textbf{\\$}$ и $\\textbf{.}$ не имеют никакого специального значения в классах символов.\n",
    "\n",
    "Метасимвол $\\textbf{^}$ не имеет специального значения, если он не является первым символом класса.\n",
    "\n",
    "$\\textbf{Пример:}$"
   ]
  },
  {
   "cell_type": "code",
   "execution_count": 39,
   "metadata": {},
   "outputs": [
    {
     "name": "stdout",
     "output_type": "stream",
     "text": [
      "Match 1\n",
      "Match 2\n"
     ]
    }
   ],
   "source": [
    "pattern = r'[^A-Z]' # данный набор исключает строки с текстом в верхнем регистре\n",
    "\n",
    "if re.search(pattern, 'this is all quiet'):\n",
    "    print('Match 1')\n",
    "if re.search(pattern, 'AaCdEfG123'):\n",
    "    print('Match 2')\n",
    "if re.search(pattern, 'THISISALLSHOUTING'):\n",
    "    print('Match 3')"
   ]
  },
  {
   "cell_type": "markdown",
   "metadata": {},
   "source": [
    "Среди других метасимволов: $\\textbf{*}$, $\\textbf{+}$, $\\textbf{?}$, $\\textbf{{}}$, которые задают число упоминаний.\n",
    "\n",
    "$\\textbf{*}$ - ноль или более упоминаний объектов поиска. Эта команда позволяет найти как можно больше упописаний.\n",
    "\"Объект поиска\" указывается в $\\textbf{скобках}$; им может быть один символ, класс или группа символов.\n",
    "\n",
    "$\\textbf{Пример:}$"
   ]
  },
  {
   "cell_type": "code",
   "execution_count": 41,
   "metadata": {},
   "outputs": [
    {
     "name": "stdout",
     "output_type": "stream",
     "text": [
      "Match 1\n",
      "Match 2\n"
     ]
    }
   ],
   "source": [
    "pattern = r'egg(spam)*'\n",
    "\n",
    "if re.match(pattern, 'egg'):\n",
    "    print('Match 1')\n",
    "if re.match(pattern, 'eggspamspamegg'):\n",
    "    print('Match 2')\n",
    "if re.match(pattern, 'spam'):\n",
    "    print('Match 3')\n",
    "    \n",
    "\"\"\"\n",
    "В примере будут найдены строки, начинающиеся с egg, за которой следует (или нет) неограниченое число упоминаний spam\n",
    "\"\"\""
   ]
  },
  {
   "cell_type": "markdown",
   "metadata": {},
   "source": [
    "Меасимвол $\\textbf{+}$ очень похож  на $\\textbf{*}$ с тем отличием, что он означает \"$\\textbf{одно}$ (или более) упоминание\", в отличие от \"ноль или более упоминаний\".\n",
    "\n",
    "$\\textbf{Пример:}$"
   ]
  },
  {
   "cell_type": "code",
   "execution_count": 42,
   "metadata": {},
   "outputs": [
    {
     "name": "stdout",
     "output_type": "stream",
     "text": [
      "Match 1\n",
      "Match 2\n"
     ]
    }
   ],
   "source": [
    "pattern = r'g+'\n",
    "\n",
    "if re.match(pattern, 'g'):\n",
    "    print('Match 1')\n",
    "if re.match(pattern, 'ggggggggg'):\n",
    "    print('Match 2')\n",
    "if re.match(pattern, 'abc'):\n",
    "    print('Match 3')"
   ]
  },
  {
   "cell_type": "markdown",
   "metadata": {},
   "source": [
    "Метасимвол $\\textbf{?}$ означает \"ноль или одно повторение\".\n",
    "\n",
    "$\\textbf{Пример:}$"
   ]
  },
  {
   "cell_type": "code",
   "execution_count": 45,
   "metadata": {},
   "outputs": [
    {
     "name": "stdout",
     "output_type": "stream",
     "text": [
      "Match 1\n",
      "Match 2\n"
     ]
    }
   ],
   "source": [
    "pattern = r'ice(-)?cream'\n",
    "\n",
    "if re.match(pattern, 'ice-cream'):\n",
    "    print('Match 1')\n",
    "if re.match(pattern, 'icecream'):\n",
    "    print('Match 2')\n",
    "if re.match(pattern, 'sausages'):\n",
    "    print('Match 3')\n",
    "if re.match(pattern, 'ice-ice'):\n",
    "    print('Match 4')"
   ]
  },
  {
   "cell_type": "markdown",
   "metadata": {},
   "source": [
    "$\\textbf{Фигурные скобки}$ можно использовать для поиска числа упоминаний между двумя числами.\n",
    "Выражение $\\textbf{{x, y}}$ означает \"упоминания объекта поиска между x и y\".\n",
    "\n",
    "Следовательно, $\\textbf{{0,1}}$ - тоже самое, что и $\\textbf{?}$.\n",
    "\n",
    "Если первое число отсутствует, интерпритатор считает, что это число 0. Если второе число отсутствует, то программа будет искать до бесконечности.\n",
    "\n",
    "$\\textbf{Пример:}$"
   ]
  },
  {
   "cell_type": "code",
   "execution_count": 46,
   "metadata": {},
   "outputs": [
    {
     "name": "stdout",
     "output_type": "stream",
     "text": [
      "Match 1\n",
      "Match 2\n"
     ]
    }
   ],
   "source": [
    "pattern = r'9{1,3}$'\n",
    "\n",
    "if re.match(pattern, '9'):\n",
    "    print('Match 1')\n",
    "if re.match(pattern, '999'):\n",
    "    print('Match 2')\n",
    "if re.match(pattern, '99999'):\n",
    "    print('Match 3')"
   ]
  },
  {
   "cell_type": "markdown",
   "metadata": {},
   "source": [
    "## Группы "
   ]
  },
  {
   "cell_type": "markdown",
   "metadata": {},
   "source": [
    "Группа создается путем заключения части регулярного выражения в $\\textbf{круглые скобки}$. Это значит, что группа может быть задана в качестве аргумента метасимволами, такими как * и ?.\n",
    "\n",
    "$\\textbf{Пример:}$"
   ]
  },
  {
   "cell_type": "code",
   "execution_count": 47,
   "metadata": {},
   "outputs": [
    {
     "name": "stdout",
     "output_type": "stream",
     "text": [
      "Match 1\n",
      "Match 2\n"
     ]
    }
   ],
   "source": [
    "pattern = r'egg(spam)*' # (spam) представляет собой группу внутри набора символов\n",
    "\n",
    "if re.match(pattern, 'egg'):\n",
    "    print('Match 1')\n",
    "if re.match(pattern, 'eggspamspamspamspamegg'):\n",
    "    print('Match 2')\n",
    "if re.match(pattern, 'spam'):\n",
    "    print('Match 3')\n"
   ]
  },
  {
   "cell_type": "markdown",
   "metadata": {},
   "source": [
    "Содержание групп можно получить с помощью функции $\\textbf{group}$.\n",
    "\n",
    "Вызов метода $\\textbf{group(0)}$ или $\\textbf{group()}$ возвращает все найденые совпадения. Вызов метода $\\textbf{group(n)}$, где $\\textbf{n}$ больше 0, возвращает $\\textbf{n}$-ю группу, считая слева.\n",
    "\n",
    "Метод $\\textbf{groups()}$ возвращает все группы, начиная с первой.\n",
    "\n",
    "$\\textbf{Пример:}$"
   ]
  },
  {
   "cell_type": "code",
   "execution_count": 48,
   "metadata": {},
   "outputs": [
    {
     "name": "stdout",
     "output_type": "stream",
     "text": [
      "abcdefghi\n",
      "abcdefghi\n",
      "bc\n",
      "de\n",
      "('bc', 'de', 'fgh', 'g')\n"
     ]
    }
   ],
   "source": [
    "pattern = r'a(bc)(de)(f(g)h)i' # группы могут быть вложенными\n",
    "\n",
    "match = re.match(pattern, 'abcdefghijklmno')\n",
    "if match:\n",
    "    print(match.group())\n",
    "    print(match.group(0))\n",
    "    print(match.group(1))\n",
    "    print(match.group(2))\n",
    "    print(match.groups())"
   ]
  },
  {
   "cell_type": "markdown",
   "metadata": {},
   "source": [
    "Есть несколько типов специальных групп.\n",
    "\n",
    "Две наиболее важные: именованные группы и \"незахватывающие\" группы.\n",
    "\n",
    "Формат $\\textbf{именованных групп: (?P<name>)...}$, где $\\textbf{name}$ - имя группы, а $\\textbf{...}$ - содержание группы. У них точно такая же функциональность, как и у обычных групп, но их можно получить не только по номеру, но и с помощью метода $\\textbf{group(name)}$.\n",
    "\n",
    "Формат \"незахватывающих\" групп: $\\textbf{(?:....)}$.\n",
    "\n",
    "Их нельзя получить по методу группы, поэтому их можно добавлять в регулярное выражение, не нарушая нумерацию.\n",
    "\n",
    "$\\textbf{Пример:}$"
   ]
  },
  {
   "cell_type": "code",
   "execution_count": 49,
   "metadata": {},
   "outputs": [
    {
     "name": "stdout",
     "output_type": "stream",
     "text": [
      "abc\n",
      "('abc', 'ghi')\n"
     ]
    }
   ],
   "source": [
    "pattern = r'(?P<first>abc)(?:def)(ghi)'\n",
    "\n",
    "match = re.match(pattern, 'abcdefghi')\n",
    "if match:\n",
    "    print(match.group('first'))\n",
    "    print(match.groups())"
   ]
  },
  {
   "cell_type": "markdown",
   "metadata": {},
   "source": [
    "Другой важный метасимвол $\\textbf{|}$, который имеет значение \"или\". Т.о. в результате выражения $\\textbf{красный|синий}$ вернется либо \"красный\" или \"синий\".\n",
    "\n",
    "$\\textbf{Пример:}$"
   ]
  },
  {
   "cell_type": "code",
   "execution_count": 50,
   "metadata": {},
   "outputs": [
    {
     "name": "stdout",
     "output_type": "stream",
     "text": [
      "Match 1\n",
      "Match 2\n"
     ]
    }
   ],
   "source": [
    "pattern = r'gr(a|e)y'\n",
    "\n",
    "if re.match(pattern, 'gray'):\n",
    "    print('Match 1')\n",
    "if re.match(pattern, 'grey'):\n",
    "    print('Match 2')\n",
    "if re.match(pattern, 'griy'):\n",
    "    print('Match 3')"
   ]
  },
  {
   "cell_type": "markdown",
   "metadata": {},
   "source": [
    "## Специальные последовательности "
   ]
  },
  {
   "cell_type": "markdown",
   "metadata": {},
   "source": [
    "В регулярных выражениях также используются различные $\\textbf{специальные последовательные}$. Их синтаксис записывается как бэкслэш, за которым следует другой символ.\n",
    "Одна такая специальная последовательность: бэкслеш и число от 1 до 99, например, \\1 или \\17. Такая последовательность соответствует выражению группы с таким же числом. \n",
    "\n",
    "$\\textbf{Пример:}$"
   ]
  },
  {
   "cell_type": "code",
   "execution_count": 52,
   "metadata": {},
   "outputs": [
    {
     "name": "stdout",
     "output_type": "stream",
     "text": [
      "Match 1\n",
      "Match 2\n"
     ]
    }
   ],
   "source": [
    "pattern = r'(.+) \\1'\n",
    "\n",
    "\n",
    "if re.match(pattern, 'word word'):\n",
    "    print('Match 1')\n",
    "if re.match(pattern, '?! ?!'):\n",
    "    print('Match 2')\n",
    "if re.match(pattern, 'abc cde'):\n",
    "    print('Match 3')    "
   ]
  },
  {
   "cell_type": "markdown",
   "metadata": {},
   "source": [
    "Стоит обратить внимание, что $\\textbf{(.+) \\1}$ - не то же самое, что $\\textbf{(.+) (.+)}$, потому что $\\textbf{\\1}$ относится к подвыражению первой группы, которое само по себе является совпавшим выражением, а не набором символов регулярного выражения."
   ]
  },
  {
   "cell_type": "markdown",
   "metadata": {},
   "source": [
    "Есть другие специальные последовательности: $\\textbf{\\d}$, $\\textbf{\\s}$ и $\\textbf{\\w}$.\n",
    "\n",
    "Они означают соответственно $\\textbf{цифры}$ (d от англ. digits), $\\textbf{пробелы}$ (s от англ. spaces) и $\\textbf{символы слов}$ (w от англ. word characters). \n",
    "\n",
    "В режиме ASCII им соответствуют [0-9], [\\t\\n\\r\\f\\v] и [a-zA-z0-9_].\n",
    "\n",
    "В режиме Unicode они соответствуют также некоторым другим символам, Например символ $\\textbf{\\w}$ соответствует символам с диактрикой.\n",
    "\n",
    "Если эти специальные последовательности записаны заглавными буквами ($\\textbf{\\D}$, $\\textbf{\\S}$ и $\\textbf{\\W}$), они имеют противоположное значение. Например, $\\textbf{\\D}$ совпадает с любыми символами, кроме цифр.\n",
    "\n",
    "$\\textbf{Пример:}$"
   ]
  },
  {
   "cell_type": "code",
   "execution_count": 53,
   "metadata": {},
   "outputs": [
    {
     "name": "stdout",
     "output_type": "stream",
     "text": [
      "Match 1\n"
     ]
    }
   ],
   "source": [
    "pattern = r'(\\D+\\d)' # будет искать один (или несколько) нецифровых символов с последующей цифрой\n",
    "\n",
    "\n",
    "if re.match(pattern, 'Hi 999!'):\n",
    "    print('Match 1')\n",
    "if re.match(pattern, '1, 23, 456!'):\n",
    "    print('Match 2')\n",
    "if re.match(pattern, '! $?'):\n",
    "    print('Match 3') "
   ]
  },
  {
   "cell_type": "markdown",
   "metadata": {
    "collapsed": true
   },
   "source": [
    "## Извлечение адреса почты(пример) "
   ]
  },
  {
   "cell_type": "markdown",
   "metadata": {},
   "source": [
    "Для демонстрации соорудим код для извлечения адреса электронной почты из программной строки.\n",
    "Как правило адрес состоит из нескольких частей:\n",
    "1 - первая часть адреса, которая может содержать слова, цифры, точки и тирэ. Далее следует знак @.\n",
    "2 - имя домена\n",
    "3 - суффикс доменного имени\n",
    "\n",
    "$\\textbf{[\\w\\.-]+}$ соответствует одному или более символу слова, точке или черточке. Следовательно шаблон должен будет выглядеть следующим образом:"
   ]
  },
  {
   "cell_type": "code",
   "execution_count": 1,
   "metadata": {
    "collapsed": true
   },
   "outputs": [],
   "source": [
    "pattern = r'([\\w\\.-]+)@([\\w\\.-]+)(\\.[\\w\\.]+)'"
   ]
  },
  {
   "cell_type": "code",
   "execution_count": 2,
   "metadata": {
    "collapsed": true
   },
   "outputs": [],
   "source": [
    "string = 'Please contact info@sololearn.com for assistance'"
   ]
  },
  {
   "cell_type": "code",
   "execution_count": 4,
   "metadata": {},
   "outputs": [
    {
     "name": "stdout",
     "output_type": "stream",
     "text": [
      "info@sololearn.com\n"
     ]
    }
   ],
   "source": [
    "import re\n",
    "\n",
    "\n",
    "match = re.search(pattern, string) \n",
    "if match:\n",
    "    print(match.group())"
   ]
  },
  {
   "cell_type": "markdown",
   "metadata": {},
   "source": [
    "Если строка содержит несколько адресов электронной почты, можно использоват метод re.findall вместо re.search, что бы извлечь все адреса электронной почты."
   ]
  },
  {
   "cell_type": "markdown",
   "metadata": {},
   "source": [
    "# Тернарный оператор"
   ]
  },
  {
   "cell_type": "code",
   "execution_count": 6,
   "metadata": {},
   "outputs": [
    {
     "name": "stdout",
     "output_type": "stream",
     "text": [
      "42\n"
     ]
    }
   ],
   "source": [
    "a = 4\n",
    "b = 1 if a >= 5 else 42\n",
    "print(b)"
   ]
  },
  {
   "cell_type": "code",
   "execution_count": null,
   "metadata": {
    "collapsed": true
   },
   "outputs": [],
   "source": []
  }
 ],
 "metadata": {
  "kernelspec": {
   "display_name": "Python 3",
   "language": "python",
   "name": "python3"
  },
  "language_info": {
   "codemirror_mode": {
    "name": "ipython",
    "version": 3
   },
   "file_extension": ".py",
   "mimetype": "text/x-python",
   "name": "python",
   "nbconvert_exporter": "python",
   "pygments_lexer": "ipython3",
   "version": "3.5.2"
  }
 },
 "nbformat": 4,
 "nbformat_minor": 1
}
