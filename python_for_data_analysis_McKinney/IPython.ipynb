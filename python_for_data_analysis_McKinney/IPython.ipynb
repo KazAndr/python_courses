{
 "cells": [
  {
   "cell_type": "markdown",
   "metadata": {},
   "source": [
    "### Короткая выжимка возможностей IPython"
   ]
  },
  {
   "cell_type": "markdown",
   "metadata": {},
   "source": [
    "Автодополнение по **Tab** как, собственно, в *notebook* "
   ]
  },
  {
   "cell_type": "code",
   "execution_count": 1,
   "metadata": {
    "collapsed": true
   },
   "outputs": [],
   "source": [
    "data = {i: str(i/10) for i in range(7)}"
   ]
  },
  {
   "cell_type": "markdown",
   "metadata": {},
   "source": [
    "Вопросительный знак перед или после переменной дает краткую информацию по ней(интроспекция)"
   ]
  },
  {
   "cell_type": "code",
   "execution_count": 3,
   "metadata": {
    "collapsed": true
   },
   "outputs": [],
   "source": [
    "?data # В notebook эта информация выводится в отдельном окне"
   ]
  },
  {
   "cell_type": "code",
   "execution_count": 4,
   "metadata": {
    "collapsed": true
   },
   "outputs": [],
   "source": [
    "def my_sum(a, b):\n",
    "    '''\n",
    "    Суммирование двух элементов \n",
    "    '''\n",
    "    return a + b"
   ]
  },
  {
   "cell_type": "markdown",
   "metadata": {},
   "source": [
    "Два вопросительных знака позволяют получить исходный код функции (если это возможно)"
   ]
  },
  {
   "cell_type": "code",
   "execution_count": 5,
   "metadata": {
    "collapsed": true
   },
   "outputs": [],
   "source": [
    "??my_sum  # В notebook эта информация выводится в отдельном окне"
   ]
  },
  {
   "cell_type": "markdown",
   "metadata": {},
   "source": [
    "И последнее применение **?** - поиск в пространстве имен IPython по аналогии со\n",
    "стандартной командной строкой UNIX или Windows. Если ввести несколько символов в сочетании с метасимволом \\*, то будут показаны все имена по указанной маске. Например, вот как можно получить список всех функций в пространстве\n",
    "имен верхнего уровня NumPy, имена которых содержат строку load"
   ]
  },
  {
   "cell_type": "code",
   "execution_count": 6,
   "metadata": {
    "collapsed": true
   },
   "outputs": [],
   "source": [
    "import numpy as np"
   ]
  },
  {
   "cell_type": "code",
   "execution_count": 9,
   "metadata": {},
   "outputs": [],
   "source": [
    "?np.*load* # В notebook эта информация выводится в отдельном окне"
   ]
  },
  {
   "cell_type": "markdown",
   "metadata": {},
   "source": [
    "### Команда %run"
   ]
  },
  {
   "cell_type": "markdown",
   "metadata": {},
   "source": [
    "Команда %run позволяет выполнить любой файл как Руthоn-программу в контексте текущего сеанса IPython. Предположим, что в файле ipython_script_test.ру хранится такой простенький скрипт:"
   ]
  },
  {
   "cell_type": "code",
   "execution_count": 13,
   "metadata": {},
   "outputs": [],
   "source": [
    "def f(х, у, z):\n",
    "    return (х + у) / z\n",
    "\n",
    "a = 5\n",
    "b = 6\n",
    "с = 7.5\n",
    "\n",
    "result = f(a, b, с)"
   ]
  },
  {
   "cell_type": "markdown",
   "metadata": {},
   "source": [
    "Этот скрипт можно выполнить, передав имя файла команде **%run**:"
   ]
  },
  {
   "cell_type": "code",
   "execution_count": 14,
   "metadata": {},
   "outputs": [
    {
     "name": "stderr",
     "output_type": "stream",
     "text": [
      "ERROR: File `'ipython_scr·ipt_test.py'` not found.\n"
     ]
    }
   ],
   "source": [
    "%run ipython_scr·ipt_test .ру"
   ]
  },
  {
   "cell_type": "markdown",
   "metadata": {},
   "source": [
    "Скрипт выполняется в пустом пространстве имен (в которое ничего пе импортировано и в котором не определены пика кие переменные), поэтому его поведение должно быть идентично тому, что получается при запуске программы из командной строки командой python script. ру. Все переменные (импортированные, функции, глобальные объекты), определенные в файле (до момента исключения, если таковое произойдет), будут доступны оболочке IPython:"
   ]
  },
  {
   "cell_type": "markdown",
   "metadata": {},
   "source": [
    "Если Руthоn-скрипт ожидает передачи аргументов из командной строки (которые должны попасть в массив sys. argv ), то их можно перечислить после пути к файлу, как в командной строке."
   ]
  },
  {
   "cell_type": "markdown",
   "metadata": {},
   "source": [
    "Если вы хотите дать скрипту доступ к переменным, уже определенным в интерактивном пространстве имен IPython, используйте команду %run - i, а не просто %run."
   ]
  },
  {
   "cell_type": "markdown",
   "metadata": {
    "collapsed": true
   },
   "source": [
    "### Исполнение кода из буфера обмена"
   ]
  },
  {
   "cell_type": "markdown",
   "metadata": {},
   "source": [
    "IPython поддерживает различные возможности исполнения кода из буфера. Самое простое, скопировать необходимый код и встаивть его в консоль посредством \\<SHIFT>+\\<CTRL>+\\<V>. Это не самый удачный способ, так как в таком режиме имитируется ввод каждой отдельной строки, а символы новой строки трактуются как нажатие \\<ENTER>. Можно здорово наколоться копируя код со множеством вложений.\n",
    "\n",
    "Лучше использовать магические функции:\n",
    "\n",
    "+ %paste - принимает текст находящийся в буфере и исполняющий его в оболочке как единый блок.\n",
    "+ %cpaste - аналогична предыдущей команде, но добавляет специальное приглажение для вставки кода."
   ]
  },
  {
   "cell_type": "code",
   "execution_count": null,
   "metadata": {},
   "outputs": [],
   "source": []
  }
 ],
 "metadata": {
  "kernelspec": {
   "display_name": "Python 3",
   "language": "python",
   "name": "python3"
  },
  "language_info": {
   "codemirror_mode": {
    "name": "ipython",
    "version": 3
   },
   "file_extension": ".py",
   "mimetype": "text/x-python",
   "name": "python",
   "nbconvert_exporter": "python",
   "pygments_lexer": "ipython3",
   "version": "3.6.3"
  }
 },
 "nbformat": 4,
 "nbformat_minor": 1
}
