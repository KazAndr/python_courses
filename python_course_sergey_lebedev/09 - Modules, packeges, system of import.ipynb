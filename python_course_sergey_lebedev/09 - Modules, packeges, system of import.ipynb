{
 "cells": [
  {
   "cell_type": "code",
   "execution_count": 1,
   "metadata": {},
   "outputs": [
    {
     "name": "stdout",
     "output_type": "stream",
     "text": [
      "Once deleted, variables cannot be recovered. Proceed (y/[n])? y\n"
     ]
    }
   ],
   "source": [
    "reset"
   ]
  },
  {
   "cell_type": "markdown",
   "metadata": {},
   "source": [
    "## Пакеты"
   ]
  },
  {
   "cell_type": "markdown",
   "metadata": {},
   "source": [
    "Пакеты позволяют структурировать код на Python"
   ]
  },
  {
   "cell_type": "markdown",
   "metadata": {},
   "source": [
    "Любая диретория имеющая внутри себя файл \\_\\_init\\_\\_.py является пакетом."
   ]
  },
  {
   "cell_type": "markdown",
   "metadata": {},
   "source": [
    "Весь синтаксис импорта сохраняется, но добавляется дотнотацию для модулей в пакете"
   ]
  },
  {
   "cell_type": "markdown",
   "metadata": {},
   "source": [
    "Относительный импорт работате только для пакета, в котором вызывается импорт и с ним можно заменить имя пакета на одну точку . Но это все не работает в интерактивной оболочке Python. Т.е. это разумно использовать для модулей, использующих другие модули в пакете."
   ]
  },
  {
   "cell_type": "markdown",
   "metadata": {},
   "source": [
    "В модуле \\_\\_init\\_\\_.py имеет смысл инициализировать нечто глобальное (общие переменные, функции, кслассы) или определить фасад. Т.е. некую обеортку, содержащую информацию о структуре и устройстве пакета"
   ]
  },
  {
   "cell_type": "code",
   "execution_count": 1,
   "metadata": {},
   "outputs": [
    {
     "ename": "SystemError",
     "evalue": "Parent module '' not loaded, cannot perform relative import",
     "output_type": "error",
     "traceback": [
      "\u001b[1;31m---------------------------------------------------------------------------\u001b[0m",
      "\u001b[1;31mSystemError\u001b[0m                               Traceback (most recent call last)",
      "\u001b[1;32m<ipython-input-1-a0c17d588018>\u001b[0m in \u001b[0;36m<module>\u001b[1;34m()\u001b[0m\n\u001b[0;32m      1\u001b[0m \u001b[1;31m# useful/bar/__init__py\u001b[0m\u001b[1;33m\u001b[0m\u001b[1;33m\u001b[0m\u001b[0m\n\u001b[1;32m----> 2\u001b[1;33m \u001b[1;32mfrom\u001b[0m \u001b[1;33m.\u001b[0m\u001b[0mboo\u001b[0m \u001b[1;32mimport\u001b[0m \u001b[1;33m*\u001b[0m\u001b[1;33m\u001b[0m\u001b[0m\n\u001b[0m\u001b[0;32m      3\u001b[0m \u001b[1;33m\u001b[0m\u001b[0m\n\u001b[0;32m      4\u001b[0m \u001b[0m__all__\u001b[0m \u001b[1;33m=\u001b[0m \u001b[0mboo\u001b[0m\u001b[1;33m.\u001b[0m\u001b[0m__all__\u001b[0m\u001b[1;33m\u001b[0m\u001b[0m\n",
      "\u001b[1;31mSystemError\u001b[0m: Parent module '' not loaded, cannot perform relative import"
     ]
    }
   ],
   "source": [
    "# useful/bar/__init__.py\n",
    "from .boo import *\n",
    "\n",
    "__all__ = boo.__all__\n",
    "\n",
    "# useful/__init__.py\n",
    "from .foo import *\n",
    "from .bar import *\n",
    "\n",
    "__all__ = foo.__all__ + bar.__all__"
   ]
  },
  {
   "cell_type": "markdown",
   "metadata": {},
   "source": [
    "Плюсы и минусы использования фасадов в \\_\\_init\\_\\_.py\n",
    "\n",
    "Плюсы\n",
    "1. Пользователю не нужно запоминать внутреннюю структуру пакета и думать, с чем он рабоатет: модулем или пакетом\n",
    "    - from urllib import urlopen или\n",
    "    - from urllib.request import urlopen или\n",
    "    - from urllib.requests import urlopen?\n",
    "2. Интерфейс не зависит от деталей реализации - можно перемещать код между внутренними модулями и пакетами.\n",
    "3. Одним словом, инкапсуляция и инженерное счастье.\n",
    "\n",
    "Минусы\n",
    "1. Накладные расходы на проход вглубину пакета. Особо тяжеловесные пакеты могут импортироваться порядка одной секунды.\n"
   ]
  },
  {
   "cell_type": "markdown",
   "metadata": {},
   "source": [
    "Модуль можно выполнить честно как модуль добавив при вызове интерпритатора опцию *-m*"
   ]
  },
  {
   "cell_type": "markdown",
   "metadata": {},
   "source": [
    "Дабы вызвать пакет, необходимо что бы в диретории пакета находился \\_\\_main\\_\\_.py"
   ]
  },
  {
   "cell_type": "markdown",
   "metadata": {},
   "source": [
    "## Система импорта"
   ]
  },
  {
   "cell_type": "markdown",
   "metadata": {},
   "source": [
    "В действительности импорт модулей и их методов осуществляется встроенной функцией \\_\\_import\\_\\_.\n",
    "\n",
    "Если написать некую оборточную функцию, позволяющую получить информацию о текущем состоянии функции, можно в прямую посмотреть, что происходит в момент импорта того или иного метода:"
   ]
  },
  {
   "cell_type": "code",
   "execution_count": 2,
   "metadata": {},
   "outputs": [],
   "source": [
    "def import_wrapper(name, *args, imp=__import__):\n",
    "    print('importing ', name)\n",
    "    return imp(name, *args)"
   ]
  },
  {
   "cell_type": "code",
   "execution_count": 3,
   "metadata": {},
   "outputs": [],
   "source": [
    "import builtins"
   ]
  },
  {
   "cell_type": "code",
   "execution_count": 5,
   "metadata": {},
   "outputs": [],
   "source": [
    "builtins.__import__ = import_wrapper"
   ]
  },
  {
   "cell_type": "code",
   "execution_count": 7,
   "metadata": {},
   "outputs": [
    {
     "name": "stdout",
     "output_type": "stream",
     "text": [
      "importing  session\n",
      "importing  collections\n"
     ]
    }
   ],
   "source": [
    "import collections"
   ]
  },
  {
   "cell_type": "markdown",
   "metadata": {},
   "source": [
    "На практике для импорта модуля по имени следует использовать функцию import_module из пакета importlib."
   ]
  },
  {
   "cell_type": "markdown",
   "metadata": {},
   "source": [
    "### Внутри функции \\_\\_import\\_\\_"
   ]
  },
  {
   "cell_type": "code",
   "execution_count": null,
   "metadata": {},
   "outputs": [],
   "source": [
    "# Сначала для модуля создается пустой объект\n",
    "import types\n",
    "mod = types.ModuleType(\"useful\")\n",
    "# Затем байткод модуля вычисляется в пространстве имен созданного объекта\n",
    "# (т.е. считывается, компилируется в байт-код и затем исполняется)\n",
    "with open(\"./useful.py\") as handle:\n",
    "    source = handle.read()\n",
    "    \n",
    "code = compile(source, \"useful.py\", mode=\"exec\")\n",
    "exec(code, mod.__dict__)\n",
    "\n",
    "# В завершение объект присваивается переменной с соответствующим именем\n",
    "usefull = mod\n",
    "useful # ~ import useful"
   ]
  },
  {
   "cell_type": "markdown",
   "metadata": {},
   "source": [
    "При первом импорте исходный код модуля компилируется в байткод, который кэшируется в файле с расширением pyc."
   ]
  },
  {
   "cell_type": "code",
   "execution_count": 2,
   "metadata": {},
   "outputs": [],
   "source": [
    "def read_int(handle):\n",
    "    return int.from_bytes(handle.read(4), 'little')"
   ]
  },
  {
   "cell_type": "code",
   "execution_count": 3,
   "metadata": {},
   "outputs": [],
   "source": [
    "import collections"
   ]
  },
  {
   "cell_type": "code",
   "execution_count": 10,
   "metadata": {},
   "outputs": [
    {
     "data": {
      "text/plain": [
       "'c:\\\\users\\\\professional\\\\appdata\\\\local\\\\programs\\\\python\\\\python35\\\\lib\\\\collections\\\\__pycache__\\\\__init__.cpython-35.pyc'"
      ]
     },
     "execution_count": 10,
     "metadata": {},
     "output_type": "execute_result"
    }
   ],
   "source": [
    "collections.__cached__"
   ]
  },
  {
   "cell_type": "code",
   "execution_count": 11,
   "metadata": {},
   "outputs": [
    {
     "data": {
      "text/plain": [
       "168627478"
      ]
     },
     "execution_count": 11,
     "metadata": {},
     "output_type": "execute_result"
    }
   ],
   "source": [
    "handle = open(collections.__cached__, 'rb')\n",
    "magic = read_int(handle) # тут содержиться информация для какой именно версии скомпилирован модуль\n",
    "magic"
   ]
  },
  {
   "cell_type": "code",
   "execution_count": 12,
   "metadata": {},
   "outputs": [
    {
     "name": "stdout",
     "output_type": "stream",
     "text": [
      "1465705922\n"
     ]
    }
   ],
   "source": [
    "mtime = read_int(handle)\n",
    "print(mtime) # тут содержится дата последнего изменения"
   ]
  },
  {
   "cell_type": "code",
   "execution_count": 8,
   "metadata": {},
   "outputs": [
    {
     "name": "stdout",
     "output_type": "stream",
     "text": [
      "Sun Jun 12 07:32:02 2016\n"
     ]
    }
   ],
   "source": [
    "import time\n",
    "print(time.asctime(time.localtime(mtime)))"
   ]
  },
  {
   "cell_type": "markdown",
   "metadata": {},
   "source": [
    "Все вышеперечисленное является первым этапом кэширования, ускоряющим импорт модулей.\n",
    "\n",
    "Второй этап кэширования заключен в sys.modules"
   ]
  },
  {
   "cell_type": "code",
   "execution_count": 13,
   "metadata": {},
   "outputs": [],
   "source": [
    "import sys"
   ]
  },
  {
   "cell_type": "code",
   "execution_count": 14,
   "metadata": {},
   "outputs": [
    {
     "data": {
      "text/plain": [
       "True"
      ]
     },
     "execution_count": 14,
     "metadata": {},
     "output_type": "execute_result"
    }
   ],
   "source": [
    "\"collections\" in sys.modules"
   ]
  },
  {
   "cell_type": "markdown",
   "metadata": {},
   "source": [
    "Каждый модуль имеет некий идентификационный номер, позволяющий интерпритатору не производить перезагрузку модулей повторно (даже в том случае, если этого требует пользователь)"
   ]
  },
  {
   "cell_type": "code",
   "execution_count": 15,
   "metadata": {},
   "outputs": [
    {
     "data": {
      "text/plain": [
       "2872834018664"
      ]
     },
     "execution_count": 15,
     "metadata": {},
     "output_type": "execute_result"
    }
   ],
   "source": [
    "id(sys.modules['collections'])"
   ]
  },
  {
   "cell_type": "code",
   "execution_count": 16,
   "metadata": {},
   "outputs": [],
   "source": [
    "import collections"
   ]
  },
  {
   "cell_type": "code",
   "execution_count": 17,
   "metadata": {},
   "outputs": [
    {
     "data": {
      "text/plain": [
       "2872834018664"
      ]
     },
     "execution_count": 17,
     "metadata": {},
     "output_type": "execute_result"
    }
   ],
   "source": [
    "id(sys.modules['collections'])"
   ]
  },
  {
   "cell_type": "markdown",
   "metadata": {},
   "source": [
    "Модули кэшируются и лежат в sys.modules"
   ]
  },
  {
   "cell_type": "markdown",
   "metadata": {},
   "source": [
    "!!!Проблема!!! Циклический импорт.  \n",
    "\n",
    "Случается тогда, когда происходить импортирование двух зависимых друг от друга модулей.\n",
    "\n",
    "Python не отслеживает отдельно циклический импотр ив случае него выводит ошибку ImportError, не более\n",
    "\n",
    "1. Решением данной проблемы является вынесение общей функциональности модулей в отдельный модуль.\n",
    "2. Осуществление локального импорта (внутри функции там, где это требуется)\n",
    "3. Изменения модуля \\_\\_init\\_\\_.py так, что бы импорт проходил в конце модуля."
   ]
  },
  {
   "cell_type": "markdown",
   "metadata": {},
   "source": [
    "sys.path - список путей к модулям, пакетам или zip-архивам(python по умолчанию может импортировать из архива). Поиск в sys.path  осуществляется с лева на право. Таким образом не в коем случае нельзя называть собственные модули также, как уже имеющиеся в системе модули."
   ]
  },
  {
   "cell_type": "markdown",
   "metadata": {},
   "source": [
    "По уморлчанию в sys.path  уже что то есть, потому что инача ничего не будет работать. Помимо этого там лежить путь к site-packages(установленное через pip) и также переменные среды окружения PYTHONPATH"
   ]
  },
  {
   "cell_type": "markdown",
   "metadata": {},
   "source": [
    "Есть нечто круче чем sys.path и это sys.meta_path"
   ]
  },
  {
   "cell_type": "code",
   "execution_count": 18,
   "metadata": {},
   "outputs": [
    {
     "data": {
      "text/plain": [
       "[_frozen_importlib.BuiltinImporter,\n",
       " _frozen_importlib.FrozenImporter,\n",
       " _frozen_importlib_external.WindowsRegistryFinder,\n",
       " _frozen_importlib_external.PathFinder,\n",
       " <six._SixMetaPathImporter at 0x29ce2867da0>]"
      ]
     },
     "execution_count": 18,
     "metadata": {},
     "output_type": "execute_result"
    }
   ],
   "source": [
    "sys.meta_path"
   ]
  },
  {
   "cell_type": "markdown",
   "metadata": {},
   "source": [
    "Это искатели и загрузчики модулей"
   ]
  },
  {
   "cell_type": "markdown",
   "metadata": {},
   "source": [
    "Finder должен реализовывать метод find_spec, принимающий имя модуля и возвращающий ModuleSpec или None, если модуль не был найден."
   ]
  },
  {
   "cell_type": "code",
   "execution_count": 19,
   "metadata": {},
   "outputs": [],
   "source": [
    "builtit_finder, _, _, path_finder, _ = sys.meta_path"
   ]
  },
  {
   "cell_type": "code",
   "execution_count": 20,
   "metadata": {},
   "outputs": [
    {
     "data": {
      "text/plain": [
       "ModuleSpec(name='itertools', loader=<class '_frozen_importlib.BuiltinImporter'>, origin='built-in')"
      ]
     },
     "execution_count": 20,
     "metadata": {},
     "output_type": "execute_result"
    }
   ],
   "source": [
    "builtit_finder.find_spec(\"itertools\")"
   ]
  },
  {
   "cell_type": "code",
   "execution_count": 21,
   "metadata": {},
   "outputs": [],
   "source": [
    "builtit_finder.find_spec('enum') # Ничего не вернул, потому что модуль не встроенный"
   ]
  },
  {
   "cell_type": "code",
   "execution_count": 22,
   "metadata": {},
   "outputs": [
    {
     "data": {
      "text/plain": [
       "ModuleSpec(name='enum', loader=<_frozen_importlib_external.SourceFileLoader object at 0x0000029CE6E52208>, origin='c:\\\\users\\\\professional\\\\appdata\\\\local\\\\programs\\\\python\\\\python35\\\\lib\\\\enum.py')"
      ]
     },
     "execution_count": 22,
     "metadata": {},
     "output_type": "execute_result"
    }
   ],
   "source": [
    "path_finder.find_spec(\"enum\") # Нашел, потому что модуль не встроенный"
   ]
  },
  {
   "cell_type": "code",
   "execution_count": 24,
   "metadata": {},
   "outputs": [
    {
     "data": {
      "text/plain": [
       "ModuleSpec(name='math', loader=<class '_frozen_importlib.BuiltinImporter'>, origin='built-in')"
      ]
     },
     "execution_count": 24,
     "metadata": {},
     "output_type": "execute_result"
    }
   ],
   "source": [
    "builtit_finder.find_spec(\"math\")"
   ]
  },
  {
   "cell_type": "markdown",
   "metadata": {},
   "source": [
    "ModuleSpec содержит все необходимую информацию для загрузки модуля"
   ]
  },
  {
   "cell_type": "code",
   "execution_count": 25,
   "metadata": {},
   "outputs": [],
   "source": [
    "spec = path_finder.find_module(\"collections\")"
   ]
  },
  {
   "cell_type": "code",
   "execution_count": 26,
   "metadata": {},
   "outputs": [
    {
     "data": {
      "text/plain": [
       "'collections'"
      ]
     },
     "execution_count": 26,
     "metadata": {},
     "output_type": "execute_result"
    }
   ],
   "source": [
    "spec.name"
   ]
  },
  {
   "cell_type": "code",
   "execution_count": 27,
   "metadata": {},
   "outputs": [
    {
     "data": {
      "text/plain": [
       "'c:\\\\users\\\\professional\\\\appdata\\\\local\\\\programs\\\\python\\\\python35\\\\lib\\\\collections\\\\__init__.py'"
      ]
     },
     "execution_count": 27,
     "metadata": {},
     "output_type": "execute_result"
    }
   ],
   "source": [
    "spec.path"
   ]
  },
  {
   "cell_type": "code",
   "execution_count": 28,
   "metadata": {},
   "outputs": [
    {
     "data": {
      "text/plain": [
       "<bound method SourceLoader.source_to_code of <_frozen_importlib_external.SourceFileLoader object at 0x0000029CE6E43CC0>>"
      ]
     },
     "execution_count": 28,
     "metadata": {},
     "output_type": "execute_result"
    }
   ],
   "source": [
    "spec.source_to_code"
   ]
  },
  {
   "cell_type": "code",
   "execution_count": 29,
   "metadata": {},
   "outputs": [
    {
     "data": {
      "text/plain": [
       "<bound method FileLoader.load_module of <_frozen_importlib_external.SourceFileLoader object at 0x0000029CE6E43CC0>>"
      ]
     },
     "execution_count": 29,
     "metadata": {},
     "output_type": "execute_result"
    }
   ],
   "source": [
    "spec.load_module"
   ]
  },
  {
   "cell_type": "markdown",
   "metadata": {},
   "source": [
    "Необходимость подобного знания можно описать на коротком примере:\n",
    "\n",
    "Имеется две реализации одного и тогоже модуля. Одна быстрая (реализованная на каком либо ЯП) и одна на Python.\n",
    "\n",
    "Для вылавливания возможной ошибки импорта можно реализовать следующий код:"
   ]
  },
  {
   "cell_type": "code",
   "execution_count": null,
   "metadata": {},
   "outputs": [],
   "source": [
    "try:\n",
    "    import _useful_speedups as useful\n",
    "except ImportError:\n",
    "    import useful"
   ]
  },
  {
   "cell_type": "markdown",
   "metadata": {},
   "source": [
    "Некорректность заключается в том, что ошибка ImportError может быть результатом совсем не проблем с нативным модулем, а по причине нашей собственной криворукости.\n",
    "\n",
    "Более надежным вариантом будет следующий код:"
   ]
  },
  {
   "cell_type": "code",
   "execution_count": null,
   "metadata": {},
   "outputs": [],
   "source": [
    "from importlib.util import find_spec\n",
    "\n",
    "if find_spec(\"_useful_speedups\"):\n",
    "    import _useful_speedups as useful\n",
    "else:\n",
    "    import useful"
   ]
  },
  {
   "cell_type": "markdown",
   "metadata": {},
   "source": [
    "Функция find_spec обходит sys.meta_path и последовательно вызывает одноименный метод у каждого из импортеров"
   ]
  },
  {
   "cell_type": "markdown",
   "metadata": {},
   "source": [
    "Loader должен реализовывать два метода:\n",
    "+ create_module - для создания пустого модуля\n",
    "+ exec_module - для заполнения пустого модуля"
   ]
  },
  {
   "cell_type": "code",
   "execution_count": 30,
   "metadata": {},
   "outputs": [],
   "source": [
    "from importlib.util import find_spec"
   ]
  },
  {
   "cell_type": "code",
   "execution_count": 31,
   "metadata": {},
   "outputs": [],
   "source": [
    "spec = find_spec(\"enum\")"
   ]
  },
  {
   "cell_type": "code",
   "execution_count": 32,
   "metadata": {},
   "outputs": [],
   "source": [
    "mod = spec.loader.create_module(spec)"
   ]
  },
  {
   "cell_type": "code",
   "execution_count": 34,
   "metadata": {},
   "outputs": [
    {
     "name": "stdout",
     "output_type": "stream",
     "text": [
      "None\n"
     ]
    }
   ],
   "source": [
    "print(mod) # Пустой модуль"
   ]
  },
  {
   "cell_type": "code",
   "execution_count": 35,
   "metadata": {},
   "outputs": [],
   "source": [
    "from importlib.util import module_from_spec"
   ]
  },
  {
   "cell_type": "code",
   "execution_count": 36,
   "metadata": {},
   "outputs": [],
   "source": [
    "mod = module_from_spec(spec)"
   ]
  },
  {
   "cell_type": "code",
   "execution_count": 37,
   "metadata": {},
   "outputs": [
    {
     "data": {
      "text/plain": [
       "<module 'enum' from 'c:\\\\users\\\\professional\\\\appdata\\\\local\\\\programs\\\\python\\\\python35\\\\lib\\\\enum.py'>"
      ]
     },
     "execution_count": 37,
     "metadata": {},
     "output_type": "execute_result"
    }
   ],
   "source": [
    "mod"
   ]
  },
  {
   "cell_type": "code",
   "execution_count": 38,
   "metadata": {},
   "outputs": [
    {
     "data": {
      "text/plain": [
       "['__cached__',\n",
       " '__doc__',\n",
       " '__file__',\n",
       " '__loader__',\n",
       " '__name__',\n",
       " '__package__',\n",
       " '__spec__']"
      ]
     },
     "execution_count": 38,
     "metadata": {},
     "output_type": "execute_result"
    }
   ],
   "source": [
    "dir(mod)"
   ]
  },
  {
   "cell_type": "code",
   "execution_count": 39,
   "metadata": {},
   "outputs": [],
   "source": [
    "spec.loader.exec_module(mod)"
   ]
  },
  {
   "cell_type": "code",
   "execution_count": 40,
   "metadata": {},
   "outputs": [
    {
     "data": {
      "text/plain": [
       "['DynamicClassAttribute',\n",
       " 'Enum',\n",
       " 'EnumMeta',\n",
       " 'IntEnum',\n",
       " 'MappingProxyType',\n",
       " 'OrderedDict',\n",
       " '_EnumDict',\n",
       " '__all__',\n",
       " '__builtins__',\n",
       " '__cached__',\n",
       " '__doc__',\n",
       " '__file__',\n",
       " '__loader__',\n",
       " '__name__',\n",
       " '__package__',\n",
       " '__spec__',\n",
       " '_is_descriptor',\n",
       " '_is_dunder',\n",
       " '_is_sunder',\n",
       " '_make_class_unpicklable',\n",
       " '_reduce_ex_by_name',\n",
       " 'sys',\n",
       " 'unique']"
      ]
     },
     "execution_count": 40,
     "metadata": {},
     "output_type": "execute_result"
    }
   ],
   "source": [
    "dir(mod)"
   ]
  },
  {
   "cell_type": "markdown",
   "metadata": {},
   "source": [
    "#### Пример: Автоматическая установка"
   ]
  },
  {
   "cell_type": "code",
   "execution_count": 41,
   "metadata": {},
   "outputs": [],
   "source": [
    "import subprocess\n",
    "import sys\n",
    "from importlib.util import find_spec\n",
    "from importlib.abc import MetaPathFinder"
   ]
  },
  {
   "cell_type": "code",
   "execution_count": 42,
   "metadata": {},
   "outputs": [],
   "source": [
    "\"\"\"\n",
    "Искатель будет добавлен в meta_path так как наследуется от MetaPathFinder.\n",
    "Если модуль не находится, то запускается команда pip и устанавливает модуль.\n",
    "\n",
    "\"\"\"\n",
    "class AutoInstall(MetaPathFinder):\n",
    "    _loaded = set()\n",
    "    \n",
    "    @classmethod\n",
    "    def find_spec(cls, name, path=None, target=None):\n",
    "        if path is None and name not in cls._loaded:\n",
    "            print('Installing ', name)\n",
    "            cls._loaded.add(name)\n",
    "            try:\n",
    "                subprocess.check_output([\n",
    "                    sys.executable, \"-m\", \"pip\", \"install\", \"name\"\n",
    "                ])\n",
    "                return find_spec(name)\n",
    "            except Exception:\n",
    "                print(\"Failed\")\n",
    "        return None"
   ]
  },
  {
   "cell_type": "markdown",
   "metadata": {},
   "source": [
    "Помимо указанных списков, имеется еще ли sys.path_hooks. В ней лежал определенные функции. Одна из которых умеет читать(импортировать) zip-архивы, а вторая умеет импортировать из всего остального"
   ]
  },
  {
   "cell_type": "code",
   "execution_count": 43,
   "metadata": {},
   "outputs": [
    {
     "data": {
      "text/plain": [
       "[zipimport.zipimporter,\n",
       " <function _frozen_importlib_external.FileFinder.path_hook.<locals>.path_hook_for_FileFinder(path)>]"
      ]
     },
     "execution_count": 43,
     "metadata": {},
     "output_type": "execute_result"
    }
   ],
   "source": [
    "sys.path_hooks"
   ]
  },
  {
   "cell_type": "markdown",
   "metadata": {},
   "source": [
    "#### Пример: Удаленный импорт"
   ]
  },
  {
   "cell_type": "code",
   "execution_count": 47,
   "metadata": {},
   "outputs": [],
   "source": [
    "\"\"\"\n",
    "Подаваемая строка будет проверятся на соответствие URL(начинается HTTP и HTTPs)\n",
    "Если все соответствует, сслыка будет открыта urlopen.\n",
    "После этого, на странице будет найдены все перечисленные модули python\n",
    "\"\"\"\n",
    "import re\n",
    "import sys\n",
    "from urllib.request import urlopen\n",
    "\n",
    "def url_hook(url):\n",
    "    if not url.startwith(('http','https')):\n",
    "        raise ImportError\n",
    "    with urlopen(url) as page:\n",
    "        data = page.read().decode(\"utf-8\")\n",
    "    filenames = re.findall(\"[a-zA-Z_][a-zA-Z0-0_]*.py\", data)\n",
    "    modnames = {name[:-3] for name in filenames}\n",
    "    return URLFinder(url, modnames)\n",
    "\n",
    "sys.path_hooks.append(url_hook)\n",
    "\n",
    "from importlib.abc import PathEntryFinder\n",
    "from importlib.util import spec_from_loader\n",
    "\n",
    "class URLFinder(PathEntryFinder):\n",
    "    def __init__(self, url, available):\n",
    "        self.url = url\n",
    "        self.available = available\n",
    "        \n",
    "    def find_spec(self, name, target=None):\n",
    "        if name in self.available:\n",
    "            origin = '{}/{}.py'.format(self.url, name)\n",
    "            loader = URLLoader()\n",
    "            return spec_from_loader(name, loader, origin=origin)\n",
    "        else:\n",
    "            return None\n",
    "        \n",
    "        \n",
    "class URLLoader:\n",
    "    def create_module(self, target):\n",
    "        return None\n",
    "    \n",
    "    def exec_module(self, module):\n",
    "        with urlopen(module.__spec__.origin) as page:\n",
    "            source = page.read()\n",
    "        code = compile(source, module.__spec__.origin, mode='exec')\n",
    "        exec(code, module.__dict__)"
   ]
  },
  {
   "cell_type": "code",
   "execution_count": null,
   "metadata": {},
   "outputs": [],
   "source": []
  }
 ],
 "metadata": {
  "kernelspec": {
   "display_name": "Python 3",
   "language": "python",
   "name": "python3"
  },
  "language_info": {
   "codemirror_mode": {
    "name": "ipython",
    "version": 3
   },
   "file_extension": ".py",
   "mimetype": "text/x-python",
   "name": "python",
   "nbconvert_exporter": "python",
   "pygments_lexer": "ipython3",
   "version": "3.5.2"
  }
 },
 "nbformat": 4,
 "nbformat_minor": 2
}
