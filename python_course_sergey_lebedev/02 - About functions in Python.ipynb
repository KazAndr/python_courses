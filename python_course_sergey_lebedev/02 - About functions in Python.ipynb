{
 "cells": [
  {
   "cell_type": "code",
   "execution_count": 1,
   "metadata": {},
   "outputs": [
    {
     "name": "stdout",
     "output_type": "stream",
     "text": [
      "Once deleted, variables cannot be recovered. Proceed (y/[n])? y\n"
     ]
    }
   ],
   "source": [
    "reset"
   ]
  },
  {
   "cell_type": "code",
   "execution_count": 7,
   "metadata": {},
   "outputs": [
    {
     "name": "stdout",
     "output_type": "stream",
     "text": [
      "Simmple function returns 42\n",
      "----------\n",
      "Help on function foo in module __main__:\n",
      "\n",
      "foo()\n",
      "    Simmple function returns 42\n",
      "\n"
     ]
    }
   ],
   "source": [
    "#Получение документации в Python\n",
    "def foo():\n",
    "    \"\"\"Simmple function returns 42\"\"\"\n",
    "    return 42\n",
    "print(foo.__doc__)\n",
    "print('-'*10)# or\n",
    "help(foo)"
   ]
  },
  {
   "cell_type": "code",
   "execution_count": 18,
   "metadata": {},
   "outputs": [],
   "source": [
    "# функция от произвольного количества аргументов\n",
    "def my_min(*args):\n",
    "    for i in args:\n",
    "        print(i)"
   ]
  },
  {
   "cell_type": "code",
   "execution_count": 19,
   "metadata": {},
   "outputs": [
    {
     "name": "stdout",
     "output_type": "stream",
     "text": [
      "5\n",
      "6\n",
      "7\n"
     ]
    }
   ],
   "source": [
    "my_min(5, 6, 7)"
   ]
  },
  {
   "cell_type": "code",
   "execution_count": 21,
   "metadata": {},
   "outputs": [
    {
     "name": "stdout",
     "output_type": "stream",
     "text": [
      "5\n",
      "4\n",
      "3\n"
     ]
    }
   ],
   "source": [
    "# распаковка через звездочку\n",
    "my_min(*[5, 4, 3])"
   ]
  },
  {
   "cell_type": "code",
   "execution_count": 3,
   "metadata": {
    "collapsed": true
   },
   "outputs": [],
   "source": [
    "def unicue(iterabls, seen = set()):\n",
    "    acc = []\n",
    "    for item in iterabls:\n",
    "        if item not in seen:\n",
    "            seen.add(item)\n",
    "            acc.append(item)\n",
    "    return acc"
   ]
  },
  {
   "cell_type": "code",
   "execution_count": 9,
   "metadata": {
    "collapsed": true
   },
   "outputs": [],
   "source": [
    "x = [1, 1, 2, 2, 3, 3]"
   ]
  },
  {
   "cell_type": "code",
   "execution_count": 5,
   "metadata": {},
   "outputs": [
    {
     "data": {
      "text/plain": [
       "[1, 2, 3]"
      ]
     },
     "execution_count": 5,
     "metadata": {},
     "output_type": "execute_result"
    }
   ],
   "source": [
    "unicue(x)"
   ]
  },
  {
   "cell_type": "code",
   "execution_count": 6,
   "metadata": {},
   "outputs": [
    {
     "data": {
      "text/plain": [
       "[]"
      ]
     },
     "execution_count": 6,
     "metadata": {},
     "output_type": "execute_result"
    }
   ],
   "source": [
    "unicue(x) \n",
    "\"\"\"\n",
    "судя по всему seen подгружается в память и становиться значением по умолчанию после исполнения функции\n",
    "тем самым вызов функции от новго массива не вернет элементы уже находящиеся в seen.\n",
    "проверка значения по умолчанию осуществляется путем команды \n",
    "unicue.__defaults__\n",
    "\n",
    "\"\"\""
   ]
  },
  {
   "cell_type": "code",
   "execution_count": 7,
   "metadata": {},
   "outputs": [
    {
     "data": {
      "text/plain": [
       "({1, 2, 3},)"
      ]
     },
     "execution_count": 7,
     "metadata": {},
     "output_type": "execute_result"
    }
   ],
   "source": [
    "unicue.__defaults__"
   ]
  },
  {
   "cell_type": "markdown",
   "metadata": {},
   "source": [
    "# Правило: Никогда не использовать изменяемые объекты в качестве объектов по умолчанию!"
   ]
  },
  {
   "cell_type": "markdown",
   "metadata": {},
   "source": [
    "Ситуацию может изенить следующий код:"
   ]
  },
  {
   "cell_type": "code",
   "execution_count": 8,
   "metadata": {
    "collapsed": true
   },
   "outputs": [],
   "source": [
    "def unicue(iterabls, seen =None):\n",
    "    seen = set(seen or []) # None ---falsy\n",
    "    acc = []\n",
    "    for item in iterabls:\n",
    "        if item not in seen:\n",
    "            seen.add(item)\n",
    "            acc.append(item)\n",
    "    return acc"
   ]
  },
  {
   "cell_type": "code",
   "execution_count": 10,
   "metadata": {},
   "outputs": [
    {
     "data": {
      "text/plain": [
       "[1, 2, 3]"
      ]
     },
     "execution_count": 10,
     "metadata": {},
     "output_type": "execute_result"
    }
   ],
   "source": [
    "unicue(x)"
   ]
  },
  {
   "cell_type": "code",
   "execution_count": 11,
   "metadata": {},
   "outputs": [
    {
     "data": {
      "text/plain": [
       "[1, 2, 3]"
      ]
     },
     "execution_count": 11,
     "metadata": {},
     "output_type": "execute_result"
    }
   ],
   "source": [
    "unicue(x)"
   ]
  },
  {
   "cell_type": "markdown",
   "metadata": {},
   "source": []
  },
  {
   "cell_type": "code",
   "execution_count": 3,
   "metadata": {},
   "outputs": [],
   "source": [
    "x, y, z = {1, 2, 3}"
   ]
  },
  {
   "cell_type": "code",
   "execution_count": 4,
   "metadata": {},
   "outputs": [
    {
     "name": "stdout",
     "output_type": "stream",
     "text": [
      "1 2 3\n"
     ]
    }
   ],
   "source": [
    "print(x, y, z)"
   ]
  },
  {
   "cell_type": "code",
   "execution_count": 6,
   "metadata": {},
   "outputs": [],
   "source": [
    "# Области видимости в python\n",
    "min # область builtin\n",
    "min = 42 # global\n",
    "def f(*args):\n",
    "    min = 2\n",
    "    def g(): # enclosing\n",
    "        min = 4  # local\n",
    "        print(min)"
   ]
  },
  {
   "cell_type": "code",
   "execution_count": 9,
   "metadata": {},
   "outputs": [
    {
     "data": {
      "text/plain": [
       "{'In': ['',\n",
       "  'a = [range(6), 6]',\n",
       "  'a',\n",
       "  'a = [*range(6), 6]',\n",
       "  'a = *range(6)',\n",
       "  'a = range(6)',\n",
       "  'a',\n",
       "  'a[1]',\n",
       "  'a[0]',\n",
       "  'globals()'],\n",
       " 'Out': {2: [range(0, 6), 6], 6: range(0, 6), 7: 1, 8: 0},\n",
       " '_': 0,\n",
       " '_2': [range(0, 6), 6],\n",
       " '_6': range(0, 6),\n",
       " '_7': 1,\n",
       " '_8': 0,\n",
       " '__': 1,\n",
       " '___': range(0, 6),\n",
       " '__builtin__': <module 'builtins' (built-in)>,\n",
       " '__builtins__': <module 'builtins' (built-in)>,\n",
       " '__doc__': 'Automatically created module for IPython interactive environment',\n",
       " '__loader__': None,\n",
       " '__name__': '__main__',\n",
       " '__package__': None,\n",
       " '__spec__': None,\n",
       " '_dh': ['/home/andrey/Yandex.Disk/3.Программирование/balovstvo&checking'],\n",
       " '_i': 'a[0]',\n",
       " '_i1': 'a = [range(6), 6]',\n",
       " '_i2': 'a',\n",
       " '_i3': 'a = [*range(6), 6]',\n",
       " '_i4': 'a = *range(6)',\n",
       " '_i5': 'a = range(6)',\n",
       " '_i6': 'a',\n",
       " '_i7': 'a[1]',\n",
       " '_i8': 'a[0]',\n",
       " '_i9': 'globals()',\n",
       " '_ih': ['',\n",
       "  'a = [range(6), 6]',\n",
       "  'a',\n",
       "  'a = [*range(6), 6]',\n",
       "  'a = *range(6)',\n",
       "  'a = range(6)',\n",
       "  'a',\n",
       "  'a[1]',\n",
       "  'a[0]',\n",
       "  'globals()'],\n",
       " '_ii': 'a[1]',\n",
       " '_iii': 'a',\n",
       " '_oh': {2: [range(0, 6), 6], 6: range(0, 6), 7: 1, 8: 0},\n",
       " '_sh': <module 'IPython.core.shadowns' from '/home/andrey/programming/miniconda3/lib/python3.4/site-packages/IPython/core/shadowns.py'>,\n",
       " 'a': range(0, 6),\n",
       " 'exit': <IPython.core.autocall.ZMQExitAutocall at 0x7f51f87adf98>,\n",
       " 'get_ipython': <bound method ZMQInteractiveShell.get_ipython of <ipykernel.zmqshell.ZMQInteractiveShell object at 0x7f51fa003160>>,\n",
       " 'quit': <IPython.core.autocall.ZMQExitAutocall at 0x7f51f87adf98>}"
      ]
     },
     "execution_count": 9,
     "metadata": {},
     "output_type": "execute_result"
    }
   ],
   "source": [
    "globals() # функция, позволяющая получить все глобальные переменные"
   ]
  },
  {
   "cell_type": "code",
   "execution_count": 7,
   "metadata": {},
   "outputs": [
    {
     "name": "stdout",
     "output_type": "stream",
     "text": [
      "{'my_val': 42}\n"
     ]
    }
   ],
   "source": [
    "def foo():\n",
    "    my_val= 42\n",
    "    print(locals()) # функция, позволяющая получить все локальные переменные\n",
    "foo()"
   ]
  },
  {
   "cell_type": "markdown",
   "metadata": {},
   "source": [
    "Бонус именовынных функций в том, что в случае ошибки, будет указано имя некорректно работающей функции, в то время как в случае лямбда функций, подобного не возникнет."
   ]
  },
  {
   "cell_type": "code",
   "execution_count": 8,
   "metadata": {},
   "outputs": [
    {
     "data": {
      "text/plain": [
       "[2, 9]"
      ]
     },
     "execution_count": 8,
     "metadata": {},
     "output_type": "execute_result"
    }
   ],
   "source": [
    "# функция map берет неорганиченное количество iterable объектов, укорачивая по наименьшему\n",
    "list(map(lambda x , n: x**n, [2, 3], range(1,8)))"
   ]
  },
  {
   "cell_type": "code",
   "execution_count": 9,
   "metadata": {},
   "outputs": [
    {
     "data": {
      "text/plain": [
       "[42]"
      ]
     },
     "execution_count": 9,
     "metadata": {},
     "output_type": "execute_result"
    }
   ],
   "source": [
    "# Занятный функционал filter позволяющий не использовать предикат и получить таким образом true-объекты\n",
    "xs = [0, 0.0, [], set(), {}, None, 42]\n",
    "list(filter(None, xs))"
   ]
  },
  {
   "cell_type": "markdown",
   "metadata": {},
   "source": [
    "Функционал генераторов списков также можно использовать как генераторы иных коллекций. Например словарей или множеств"
   ]
  },
  {
   "cell_type": "code",
   "execution_count": 10,
   "metadata": {},
   "outputs": [
    {
     "data": {
      "text/plain": [
       "{0: 0, 1: 1, 2: 4, 3: 9, 4: 16}"
      ]
     },
     "execution_count": 10,
     "metadata": {},
     "output_type": "execute_result"
    }
   ],
   "source": [
    "{x : x**2 for x in range(5)}"
   ]
  },
  {
   "cell_type": "code",
   "execution_count": 11,
   "metadata": {},
   "outputs": [
    {
     "data": {
      "text/plain": [
       "{0, 1, 4, 9, 16}"
      ]
     },
     "execution_count": 11,
     "metadata": {},
     "output_type": "execute_result"
    }
   ],
   "source": [
    "{x**2 for x in range(5)}"
   ]
  },
  {
   "cell_type": "markdown",
   "metadata": {},
   "source": [
    "Для проверки и корректировки на PEP 8 есть ряд полезностей в виде:\n",
    "\n",
    "+ пакета (pip install pep8), который проверят файл на соответствие (pep8 ./file.py)\n",
    "+ автокорректора (pip install autopep8), который не только проверяет, но и правит (autopep8 -v ./file.py)"
   ]
  },
  {
   "cell_type": "code",
   "execution_count": null,
   "metadata": {},
   "outputs": [],
   "source": []
  }
 ],
 "metadata": {
  "kernelspec": {
   "display_name": "Python 3",
   "language": "python",
   "name": "python3"
  },
  "language_info": {
   "codemirror_mode": {
    "name": "ipython",
    "version": 3
   },
   "file_extension": ".py",
   "mimetype": "text/x-python",
   "name": "python",
   "nbconvert_exporter": "python",
   "pygments_lexer": "ipython3",
   "version": "3.6.3"
  }
 },
 "nbformat": 4,
 "nbformat_minor": 1
}
