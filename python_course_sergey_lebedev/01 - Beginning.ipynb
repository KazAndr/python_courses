{
 "cells": [
  {
   "cell_type": "markdown",
   "metadata": {},
   "source": [
    "Язык Python разработан Гвидо Ван Россумом в 1989 году как идейное продолжение (изначально появившееся в виде хобби) языка ABC, который разрабатывался как упрощенный, декларативный, интерпретируемый язык для \"домохозяек\". Не смотря на благую цель, итоговая реализация языка оказалась никому не интересной. А вот самоделка Гвидо заинтересовала общественность и через некоторое время он выпустил вполне роботоспособный язык программирования, расчитанный на людей."
   ]
  },
  {
   "cell_type": "markdown",
   "metadata": {},
   "source": [
    "Изначально разработку Python спонсировало правительство США. Об этом подробнее можно прочитать по ссылке: https://www.python.org/doc/essays/cp4e"
   ]
  },
  {
   "cell_type": "markdown",
   "metadata": {},
   "source": [
    "Чуток безумства динамического языка - возможность передавать код функций, да и вообще, судя по всему, чего угодно.\n",
    "\n",
    "Определение функций foo и egg.\n",
    "\n",
    "foo.__code__ = egg.__code__\n",
    "\n",
    "Двойный подчеркивания свидетельствуют о принадлежности аргументов к внутненней структуре (трогать ее не следует.)"
   ]
  },
  {
   "cell_type": "markdown",
   "metadata": {},
   "source": [
    "Можно заставить интерпритатор Python дизасемблировать исполняемый файл python, т.е. продемонстрировать его байт-код:\n",
    "\n",
    "> python -m dis ./**filename.py**"
   ]
  },
  {
   "cell_type": "code",
   "execution_count": 1,
   "metadata": {},
   "outputs": [
    {
     "data": {
      "text/plain": [
       "'default_value'"
      ]
     },
     "execution_count": 1,
     "metadata": {},
     "output_type": "execute_result"
    }
   ],
   "source": [
    "# Занятный метод словаря, позволяющий вернуть значение по умолчанию, если значения по ключу нет:\n",
    "dic = {}\n",
    "dic.get('key', 'default_value')"
   ]
  },
  {
   "cell_type": "markdown",
   "metadata": {
    "collapsed": true
   },
   "source": [
    "В модуле Python, под названием **\\_\\_future\\_\\_** лежат всякие штуки для написания обратно совместимого кода. И работает он следующим образом: когда компилятор проходится по файлам с исходным кодом, анализатор выявляет импорты из **\\_\\_future\\_\\_**. Если такой есть, то флаги компиляции дополняются этими импортами, это и позволяет собрать нужный байт-код. Рассмотрим пример, в 3.5 в модуле **\\_\\_future\\_\\_** появился флаг generator_stop, который реализует логику PEP 0479. Этот PEP позволяет отлавливать исключение *StopIteration* внутри генератора. Этот функционал станет доступен только в 3.7, но уже в 3.5 можно его использовать."
   ]
  },
  {
   "cell_type": "code",
   "execution_count": 3,
   "metadata": {},
   "outputs": [],
   "source": [
    "from __future__ import generator_stop"
   ]
  },
  {
   "cell_type": "markdown",
   "metadata": {},
   "source": [
    "когда компилятор заметит первый импорт, то скомпилирует файл с учетом нового функционала.\n",
    "\n",
    "По ссылке https://docs.python.org/3.5/library/future.html вы найдете список флагов в модуле __future__. Что интересно, генераторы появились в далекой 2.2 версии, да и деление (привычное по Python3) в тоже время.\n",
    "\n",
    "Еще полезная ссылка:\n",
    "\n",
    "https://docs.python.org/3.5/reference/simple_stmts.html#future"
   ]
  },
  {
   "cell_type": "code",
   "execution_count": null,
   "metadata": {
    "collapsed": true
   },
   "outputs": [],
   "source": []
  }
 ],
 "metadata": {
  "kernelspec": {
   "display_name": "Python 3",
   "language": "python",
   "name": "python3"
  },
  "language_info": {
   "codemirror_mode": {
    "name": "ipython",
    "version": 3
   },
   "file_extension": ".py",
   "mimetype": "text/x-python",
   "name": "python",
   "nbconvert_exporter": "python",
   "pygments_lexer": "ipython3",
   "version": "3.5.2"
  }
 },
 "nbformat": 4,
 "nbformat_minor": 2
}
