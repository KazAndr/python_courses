{
 "cells": [
  {
   "cell_type": "markdown",
   "metadata": {},
   "source": [
    "# Тестирование"
   ]
  },
  {
   "cell_type": "markdown",
   "metadata": {},
   "source": [
    "Тестировать:\n",
    "+ тесты проверяют корректность кода\n",
    "+ и позволяют бесстрашно изменять код даже в больших\n",
    "проектах.\n",
    "\n",
    "Не тестировать:\n",
    "+ написание тестов требует времени,\n",
    "+ нередко в проекте тестов больше чем кода,\n",
    "+ работающие тесты не гарантируют корректность.\n",
    "\n",
    "Тем не менее, ответ очевиден: конечно же тестировать!"
   ]
  },
  {
   "cell_type": "markdown",
   "metadata": {},
   "source": [
    "## Модуль doctest"
   ]
  },
  {
   "cell_type": "code",
   "execution_count": 4,
   "metadata": {},
   "outputs": [],
   "source": [
    "import doctest\n",
    "import itertools\n",
    "def rle(iterable):\n",
    "    \"\"\"Applies run-length encoding to an iterable.\n",
    "    >>> list(rle(\"\"))\n",
    "    []\n",
    "    >>> list(rle(\"mississippi\"))\n",
    "    [('m', 1), ('i', 1), ('s', 2), ('i', 1), ('s', 2), ('i', 1), ('p', 2), ('i', 1)]\n",
    "    \"\"\"\n",
    "    for item, g in itertools.groupby(iterable):\n",
    "        yield item, sum(1 for _ in g)\n",
    "\n",
    "\n",
    "if __name__ == \"__main__\":\n",
    "    doctest.testmod()"
   ]
  },
  {
   "cell_type": "markdown",
   "metadata": {},
   "source": [
    "Директивы позволяют изменить то, как doctest сравнивает\n",
    "ожидаемый вывод интерпретатора с фактическим.\n",
    "\n",
    "• Например, директива NORMALIZE_WHITESPACE нормализует\n",
    "пробельные символы перед сравнением:\n",
    "\n",
    "list(rle(\"mississippi\"))\n",
    "\n",
    "... # doctest: +NORMALIZE_WHITESPACE\n",
    "\n",
    "[('m', 1), ('i', 1), ('s', 2), ('i', 1),\n",
    "('s', 2), ('i', 1), ('p', 2), ('i', 1)]\n",
    "\n",
    "• А директива ELLIPSIS позволяет использовать символ ...,\n",
    "который совпадает с любой строкой:\n",
    "\n",
    "list(rle(\"mississippi\"))\n",
    "\n",
    "... # doctest: +ELLIPSIS\n",
    "\n",
    "[('m', 1), ('i', 1), ('s', 2), ('i', 1), ...]\n"
   ]
  },
  {
   "cell_type": "markdown",
   "metadata": {},
   "source": [
    "Модуль doctest позволяет проверить реализацию функции\n",
    "на соответствие записанному сеансу интерпретатора.\n",
    " \n",
    "Плюсы:\n",
    "\n",
    "+ доступен в стандартной библиотеке,\n",
    "+ решает задачу тестирования для небольших проектов,\n",
    "+ доктесты их легко читать,\n",
    "+ примеры кода в документации всегда актуальны.\n",
    "\n",
    "Минусы:\n",
    "\n",
    "+ доктесты требуют, чтобы у результата было содержательное\n",
    "строковое представление,\n",
    "+ длинные доктесты ухудшают читаемость документации,\n",
    "+ нет способа запустить подмножество доктестов,\n",
    "+ если в середине доктест"
   ]
  },
  {
   "cell_type": "markdown",
   "metadata": {},
   "source": [
    "## assert"
   ]
  },
  {
   "cell_type": "markdown",
   "metadata": {},
   "source": [
    "Напоминание:\n",
    "+ оператор assert принимает два аргумента: условие и\n",
    "произвольное значение,\n",
    "+ если условие falsy, оператор поднимает исключение\n",
    "AssertionError."
   ]
  },
  {
   "cell_type": "code",
   "execution_count": 5,
   "metadata": {},
   "outputs": [
    {
     "ename": "AssertionError",
     "evalue": "42",
     "output_type": "error",
     "traceback": [
      "\u001b[1;31m---------------------------------------------------------------------------\u001b[0m",
      "\u001b[1;31mAssertionError\u001b[0m                            Traceback (most recent call last)",
      "\u001b[1;32m<ipython-input-5-5799a4817d38>\u001b[0m in \u001b[0;36m<module>\u001b[1;34m()\u001b[0m\n\u001b[1;32m----> 1\u001b[1;33m \u001b[1;32massert\u001b[0m \u001b[1;33m[\u001b[0m\u001b[1;33m]\u001b[0m\u001b[1;33m,\u001b[0m \u001b[1;36m42\u001b[0m\u001b[1;33m\u001b[0m\u001b[0m\n\u001b[0m",
      "\u001b[1;31mAssertionError\u001b[0m: 42"
     ]
    }
   ],
   "source": [
    "assert [], 42"
   ]
  },
  {
   "cell_type": "code",
   "execution_count": 6,
   "metadata": {},
   "outputs": [],
   "source": [
    "def test_rle():\n",
    "    s = \"mississippi\"\n",
    "    tmp = set(ch for ch, _count in rle(s))\n",
    "    assert tmp == set(s[:-1] + s[1])\n",
    "    assert not list(rle(\"\"))"
   ]
  },
  {
   "cell_type": "code",
   "execution_count": 7,
   "metadata": {},
   "outputs": [],
   "source": [
    "test_rle()"
   ]
  },
  {
   "cell_type": "markdown",
   "metadata": {},
   "source": [
    "Хороший тест:\n",
    "+ корректный,\n",
    "+ понятный читателю,\n",
    "+ конкретный, то есть проверяет что-то одно.\n",
    "\n",
    "Попробуем улучшить тест для функции rle:"
   ]
  },
  {
   "cell_type": "code",
   "execution_count": 8,
   "metadata": {},
   "outputs": [],
   "source": [
    "def test_rle():\n",
    "    assert rle(\"mississippi\") == [\n",
    "    ('m', 1), ('i', 1), ('s', 2), ('i', 1),\n",
    "    ('s', 2), ('i', 1), ('p', 2), ('i', 1)\n",
    "    ]"
   ]
  },
  {
   "cell_type": "code",
   "execution_count": 9,
   "metadata": {},
   "outputs": [],
   "source": [
    "def test_rle_empty():\n",
    "    assert not list(rle(\"\"))"
   ]
  },
  {
   "cell_type": "code",
   "execution_count": 10,
   "metadata": {},
   "outputs": [],
   "source": [
    "test_rle_empty()"
   ]
  },
  {
   "cell_type": "code",
   "execution_count": 11,
   "metadata": {},
   "outputs": [
    {
     "ename": "AssertionError",
     "evalue": "",
     "output_type": "error",
     "traceback": [
      "\u001b[1;31m---------------------------------------------------------------------------\u001b[0m",
      "\u001b[1;31mAssertionError\u001b[0m                            Traceback (most recent call last)",
      "\u001b[1;32m<ipython-input-11-d956dada0712>\u001b[0m in \u001b[0;36m<module>\u001b[1;34m()\u001b[0m\n\u001b[1;32m----> 1\u001b[1;33m \u001b[0mtest_rle\u001b[0m\u001b[1;33m(\u001b[0m\u001b[1;33m)\u001b[0m\u001b[1;33m\u001b[0m\u001b[0m\n\u001b[0m",
      "\u001b[1;32m<ipython-input-8-db598e13a331>\u001b[0m in \u001b[0;36mtest_rle\u001b[1;34m()\u001b[0m\n\u001b[0;32m      2\u001b[0m     assert rle(\"mississippi\") == [\n\u001b[0;32m      3\u001b[0m     \u001b[1;33m(\u001b[0m\u001b[1;34m'm'\u001b[0m\u001b[1;33m,\u001b[0m \u001b[1;36m1\u001b[0m\u001b[1;33m)\u001b[0m\u001b[1;33m,\u001b[0m \u001b[1;33m(\u001b[0m\u001b[1;34m'i'\u001b[0m\u001b[1;33m,\u001b[0m \u001b[1;36m1\u001b[0m\u001b[1;33m)\u001b[0m\u001b[1;33m,\u001b[0m \u001b[1;33m(\u001b[0m\u001b[1;34m's'\u001b[0m\u001b[1;33m,\u001b[0m \u001b[1;36m2\u001b[0m\u001b[1;33m)\u001b[0m\u001b[1;33m,\u001b[0m \u001b[1;33m(\u001b[0m\u001b[1;34m'i'\u001b[0m\u001b[1;33m,\u001b[0m \u001b[1;36m1\u001b[0m\u001b[1;33m)\u001b[0m\u001b[1;33m,\u001b[0m\u001b[1;33m\u001b[0m\u001b[0m\n\u001b[1;32m----> 4\u001b[1;33m     \u001b[1;33m(\u001b[0m\u001b[1;34m's'\u001b[0m\u001b[1;33m,\u001b[0m \u001b[1;36m2\u001b[0m\u001b[1;33m)\u001b[0m\u001b[1;33m,\u001b[0m \u001b[1;33m(\u001b[0m\u001b[1;34m'i'\u001b[0m\u001b[1;33m,\u001b[0m \u001b[1;36m1\u001b[0m\u001b[1;33m)\u001b[0m\u001b[1;33m,\u001b[0m \u001b[1;33m(\u001b[0m\u001b[1;34m'p'\u001b[0m\u001b[1;33m,\u001b[0m \u001b[1;36m2\u001b[0m\u001b[1;33m)\u001b[0m\u001b[1;33m,\u001b[0m \u001b[1;33m(\u001b[0m\u001b[1;34m'i'\u001b[0m\u001b[1;33m,\u001b[0m \u001b[1;36m1\u001b[0m\u001b[1;33m)\u001b[0m\u001b[1;33m\u001b[0m\u001b[0m\n\u001b[0m\u001b[0;32m      5\u001b[0m     ]\n",
      "\u001b[1;31mAssertionError\u001b[0m: "
     ]
    }
   ],
   "source": [
    "test_rle()"
   ]
  },
  {
   "cell_type": "markdown",
   "metadata": {},
   "source": [
    "Оператор assert можно использовать для написания\n",
    "тестов.\n",
    "\n",
    "Плюсы:\n",
    "+ тесты c assert легко читать,\n",
    "+ они не используют ничего кроме стандартных средств\n",
    "языка,\n",
    "+ в отличие от доктестов это обычные функции.\n",
    "\n",
    "Минусы:\n",
    "+ запускать тесты нужно вручную,\n",
    "+ их сложно отлаживать, потому что\n",
    "+ для каждого типа утверждения приходится самостоятельно\n",
    "конструировать сообщение об ошибке.\n"
   ]
  },
  {
   "cell_type": "markdown",
   "metadata": {},
   "source": [
    "## Модуль unittest"
   ]
  },
  {
   "cell_type": "markdown",
   "metadata": {},
   "source": [
    "Модуль unittest реализует функциональность JUnit для\n",
    "тестирования кода на Python.\n",
    "\n",
    "Наследие Java до сих пор в обилии присутствует в API.\n",
    "\n",
    "Перепишем имеющиеся тесты с использованием unittest:"
   ]
  },
  {
   "cell_type": "code",
   "execution_count": 12,
   "metadata": {},
   "outputs": [
    {
     "name": "stderr",
     "output_type": "stream",
     "text": [
      "E\n",
      "======================================================================\n",
      "ERROR: C:\\Users\\Professional\\AppData\\Roaming\\jupyter\\runtime\\kernel-d2d7875d-8091-4cbb-a3e4-401964a8b1e0 (unittest.loader._FailedTest)\n",
      "----------------------------------------------------------------------\n",
      "AttributeError: module '__main__' has no attribute 'C:\\Users\\Professional\\AppData\\Roaming\\jupyter\\runtime\\kernel-d2d7875d-8091-4cbb-a3e4-401964a8b1e0'\n",
      "\n",
      "----------------------------------------------------------------------\n",
      "Ran 1 test in 0.002s\n",
      "\n",
      "FAILED (errors=1)\n"
     ]
    },
    {
     "ename": "SystemExit",
     "evalue": "True",
     "output_type": "error",
     "traceback": [
      "An exception has occurred, use %tb to see the full traceback.\n",
      "\u001b[1;31mSystemExit\u001b[0m\u001b[1;31m:\u001b[0m True\n"
     ]
    },
    {
     "name": "stderr",
     "output_type": "stream",
     "text": [
      "c:\\users\\professional\\appdata\\local\\programs\\python\\python35\\lib\\site-packages\\IPython\\core\\interactiveshell.py:2971: UserWarning: To exit: use 'exit', 'quit', or Ctrl-D.\n",
      "  warn(\"To exit: use 'exit', 'quit', or Ctrl-D.\", stacklevel=1)\n"
     ]
    }
   ],
   "source": [
    "import unittest\n",
    "\n",
    "class TestHomework(unittest.TestCase):\n",
    "    def test_rle(self):\n",
    "        self.assertEqual(rle(\"mississippi\"), [...])\n",
    "\n",
    "    def test_rle_empty(self):\n",
    "        self.assertEqual(list(rle(\"\")), [])\n",
    "\n",
    "if __name__ == \"__main__\":\n",
    "    unittest.main()"
   ]
  },
  {
   "cell_type": "markdown",
   "metadata": {},
   "source": [
    "Функция unittest.main загружает все тесты текущего\n",
    "модуля и запускает их.\n",
    "\n",
    "Тест — метод экземпляра unittest.TestCase,\n",
    "начинающийся на test.\n",
    "\n",
    "При необходимости тесты можно объединять в группы с\n",
    "помощью класса unittest.TestSuite:\n",
    "suite = unittest.TestSuite([\n",
    "TestHomework(),\n",
    "TestSomethingElse()\n",
    "])\n",
    "\n",
    "Указывать вручную, что нужно запустить довольно досадно.\n",
    "\n",
    "Вопрос: можно ли лучше?"
   ]
  },
  {
   "cell_type": "markdown",
   "metadata": {},
   "source": [
    "Ответ - можно! В python 3 можно указывать unittest где запускать тесты"
   ]
  },
  {
   "cell_type": "code",
   "execution_count": null,
   "metadata": {},
   "outputs": [],
   "source": [
    "python -m unittest ."
   ]
  },
  {
   "cell_type": "markdown",
   "metadata": {},
   "source": [
    "? aka fixtures — способ подготовить контекст, в котором\n",
    "будут запускаться тесты.\n",
    "\n",
    "Это можно использовать, например, для работы с\n",
    "ресурсами: сокетами, файлами, временными\n",
    "директориями.\n",
    "\n",
    "Пример:"
   ]
  },
  {
   "cell_type": "code",
   "execution_count": 13,
   "metadata": {},
   "outputs": [],
   "source": [
    "class TestHomeworkWithOracle(unittest.TestCase):\n",
    "    def setUp(self):\n",
    "        self.oracle = RleOracle(\"http://oracle.rle.com\")\n",
    "    \n",
    "    def test_rle_against_oracle(self):\n",
    "        s = \"mississippi\"\n",
    "        self.assertEqual(list(rle(s)), self.oracle(s))\n",
    "    \n",
    "    def tearDown(self):\n",
    "        self.oracule.close()"
   ]
  },
  {
   "cell_type": "markdown",
   "metadata": {},
   "source": [
    "Модуль unittest — клон JUnit для Python.\n",
    "\n",
    "Плюсы:\n",
    "+ доступен в стандартной библиотеке,\n",
    "+ выводит понятные сообщения об ошибках,\n",
    "+ умеет автоматически находить тесты.\n",
    "\n",
    "Минусы:\n",
    "+ API унаследован от Java,\n",
    "+ заставляет писать много лишнего кода,\n",
    "+ читать unittest тесты сложнее, чем доктесты и тесты,\n",
    "использующие assert.\n"
   ]
  },
  {
   "cell_type": "markdown",
   "metadata": {},
   "source": [
    "## Пакет py.test"
   ]
  },
  {
   "cell_type": "markdown",
   "metadata": {},
   "source": [
    "Пакет py.test — популярная альтернатива unittest для\n",
    "написания и запуска тестов.\n",
    "\n",
    "Отличительная особенность py.test — практически\n",
    "полное отсутствие API: тесты мо"
   ]
  },
  {
   "cell_type": "code",
   "execution_count": 15,
   "metadata": {},
   "outputs": [],
   "source": [
    "def test_rle():\n",
    "    assert rle(\"mississippi\") == [\n",
    "    ('m', 1), ('i', 1), ('s', 2), ('i', 1),\n",
    "    ('s', 2), ('i', 1), ('p', 2), ('i', 1)\n",
    "    ]\n",
    "\n",
    "def test_rle_empty():\n",
    "    assert not list(rle(\"\"))"
   ]
  },
  {
   "cell_type": "markdown",
   "metadata": {},
   "source": [
    "Запустить py.test можно 1001 способом, например:\n",
    "+ найти тесты в текущей директории и во всех вложенных\n",
    "директориях и запустить их:\n",
    "\n",
    "$ python -m pytest\n",
    "\n",
    "+ найти и запустить тесты в указанном файле:\n",
    "\n",
    "$ python -m pytest test_pytest.py\n",
    "\n",
    "+ запустить один тест в файле по имени:\n",
    "\n",
    "$ python -m pytest test_pytest.py::test_rle\n",
    "\n",
    "Что такое тест для py.test?\n",
    "+ функция test_*,\n",
    "+ метод test_* в классе Test* или в классе, наследующемся\n",
    "от unittest.TestCase,\n",
    "+ доктест, если py.test был запущен с параметром\n",
    "--doctest-modules.\n",
    "\n",
    "https://pytest.org/latest/goodpractises.html"
   ]
  },
  {
   "cell_type": "markdown",
   "metadata": {},
   "source": [
    " Пакет py.test — швейцарский нож тестирования в мире\n",
    "Python.\n",
    "\n",
    "Плюсы:\n",
    "+ практически нет API, тесты — обычные функции,\n",
    "+ удобный вывод,\n",
    "+ удобный механизм параметризации тестов,\n",
    "+ приспособления, которые можно переиспользовать,\n",
    "+ множество встроенных возможностей и впечатляющее\n",
    "количество расширений (https://pytest.org/latest/plugins_index\n",
    ")\n",
    "\n",
    "\n",
    "Минусы:\n",
    "+ магия-магия-магия,\n",
    "+ может быть сложнее для понимания, если вы привыкли к\n",
    "JUnit.\n"
   ]
  },
  {
   "cell_type": "markdown",
   "metadata": {},
   "source": [
    "## Пакет hypothesis"
   ]
  },
  {
   "cell_type": "markdown",
   "metadata": {},
   "source": [
    "• До текущего момента мы обсуждали тесты, которые\n",
    "проверяют тривиальные свойства кода:\n",
    "\n",
    "+ равенство ожидаемому значению,\n",
    "+ вхождение результата в коллекцию и так далее.\n",
    "\n",
    "Иногда можно формулировать и проверять менее\n",
    "тривиальные свойства, например:\n",
    "+ если sorted возвращает список, отсортированный по\n",
    "неубыванию,\n",
    "+ то для любого списка xs и индексов i < j справедливо,\n",
    "что sorted(xs)[i] <= sorted(xs)[j].\n",
    "\n",
    "Вопрос: как проверить это свойство?"
   ]
  },
  {
   "cell_type": "code",
   "execution_count": 16,
   "metadata": {},
   "outputs": [],
   "source": [
    "import random\n",
    "\n",
    "def random_array():\n",
    "    size = random.randint(0, 1024)\n",
    "    return [random.randint(-42, 42) for _ in range(size)]\n",
    "\n",
    "def test_sort():\n",
    "    xs = random_array()\n",
    "    result = sorted(xs)\n",
    "    assert all(xi <= xj\n",
    "               for xi, xj in zip(result, result[1:]))"
   ]
  },
  {
   "cell_type": "markdown",
   "metadata": {},
   "source": [
    "Такой подход сработает, но\n",
    "+ писать генераторы самостоятельно долго и бессмысленно,\n",
    "+ на практике нас, как правило, интересует минимальный\n",
    "контрпример."
   ]
  },
  {
   "cell_type": "markdown",
   "metadata": {},
   "source": [
    "Пакет hypothesis реализует API для формулирования и\n",
    "проверки свойств(гипотез).\n",
    "\n",
    "Перепишем test_sort с использованием hypothesis:"
   ]
  },
  {
   "cell_type": "code",
   "execution_count": 18,
   "metadata": {},
   "outputs": [],
   "source": [
    "import hypothesis.strategies as st\n",
    "from hypothesis import given\n",
    "\n",
    "@given(st.lists(st.integers()))\n",
    "def test_sort(xs):\n",
    "    result = sorted(xs)\n",
    "    assert all(xi <= xj\n",
    "               for xi, xj in zip(result, result[1:]))\n",
    "# И попробуем обмануть его:\n",
    "\n",
    "def sorted(xs, f=sorted):\n",
    "    return xs if len(xs) == 8 else f(xs)"
   ]
  },
  {
   "cell_type": "markdown",
   "metadata": {},
   "source": [
    "Пакет hypothesis позволяет удобно формулировать и\n",
    "проверять свойства про Python код.\n",
    "\n",
    "Львиная часть функциональности hypothesis осталась за\n",
    "кадром:\n",
    "+ как сузить пространство поиска контпримеров?\n",
    "+ как написать свой генератор?\n",
    "+ как формулировать зависимые гипотезы?"
   ]
  },
  {
   "cell_type": "code",
   "execution_count": null,
   "metadata": {},
   "outputs": [],
   "source": []
  }
 ],
 "metadata": {
  "kernelspec": {
   "display_name": "Python 3",
   "language": "python",
   "name": "python3"
  },
  "language_info": {
   "codemirror_mode": {
    "name": "ipython",
    "version": 3
   },
   "file_extension": ".py",
   "mimetype": "text/x-python",
   "name": "python",
   "nbconvert_exporter": "python",
   "pygments_lexer": "ipython3",
   "version": "3.5.2"
  }
 },
 "nbformat": 4,
 "nbformat_minor": 2
}
